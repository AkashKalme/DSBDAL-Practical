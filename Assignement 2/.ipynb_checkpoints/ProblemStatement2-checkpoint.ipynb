{
 "cells": [
  {
   "cell_type": "markdown",
   "id": "f53f6eba",
   "metadata": {},
   "source": [
    "# Problem statement 2:\n",
    "Perform the following operations using Python on any open-source dataset (e.g., data.csv)\n",
    "1. Import all the required Python Libraries.\n",
    "2. Load the Dataset into pandas’ data frame.\n",
    "3. Data Preprocessing: check for missing values in the data using pandas isnull (),head(),tail(),\n",
    "info() describe() function to get some initial statistics. Provide variable descriptions. Types of\n",
    "variables etc. Check the dimensions of the data frame.\n",
    "4. Turn categorical variables into quantitative variables in Python."
   ]
  },
  {
   "cell_type": "code",
   "execution_count": null,
   "id": "277f21f8",
   "metadata": {},
   "outputs": [],
   "source": []
  }
 ],
 "metadata": {
  "kernelspec": {
   "display_name": "Python 3 (ipykernel)",
   "language": "python",
   "name": "python3"
  },
  "language_info": {
   "codemirror_mode": {
    "name": "ipython",
    "version": 3
   },
   "file_extension": ".py",
   "mimetype": "text/x-python",
   "name": "python",
   "nbconvert_exporter": "python",
   "pygments_lexer": "ipython3",
   "version": "3.9.13"
  }
 },
 "nbformat": 4,
 "nbformat_minor": 5
}
