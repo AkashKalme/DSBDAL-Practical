{
 "cells": [
  {
   "cell_type": "markdown",
   "id": "57f79bcb",
   "metadata": {},
   "source": [
    "# Problem statement 3:\n",
    "Perform the following operations using Python\n",
    "1. Scan all variables for missing values and inconsistencies. If there are missing values and/or\n",
    "inconsistencies, use the following techniques to deal with them. \\\n",
    "a) Delete rows or column \\\n",
    "b) Replace missing values with mean \\\n",
    "c) Replace missing values with mode \\\n",
    "d) Replace missing values with median \n",
    "2. Apply data transformations on at least one of the variables. The purpose of this transformation should be one of the following reasons: to change the scale for better understanding of the variable, to convert a non-linear relation into a linear one, or to decrease the skewness and convert the distribution into a normal distribution."
   ]
  },
  {
   "cell_type": "code",
   "execution_count": 1,
   "id": "21e00517",
   "metadata": {},
   "outputs": [],
   "source": [
    "import pandas as pd\n",
    "import numpy as np\n",
    "import seaborn as sns"
   ]
  },
  {
   "cell_type": "code",
   "execution_count": 2,
   "id": "cb1a8b68",
   "metadata": {},
   "outputs": [],
   "source": [
    "df = pd.read_csv(\"AcademicPerformance.csv\")"
   ]
  },
  {
   "cell_type": "code",
   "execution_count": 3,
   "id": "0161c0dd",
   "metadata": {},
   "outputs": [
    {
     "data": {
      "text/html": [
       "<div>\n",
       "<style scoped>\n",
       "    .dataframe tbody tr th:only-of-type {\n",
       "        vertical-align: middle;\n",
       "    }\n",
       "\n",
       "    .dataframe tbody tr th {\n",
       "        vertical-align: top;\n",
       "    }\n",
       "\n",
       "    .dataframe thead th {\n",
       "        text-align: right;\n",
       "    }\n",
       "</style>\n",
       "<table border=\"1\" class=\"dataframe\">\n",
       "  <thead>\n",
       "    <tr style=\"text-align: right;\">\n",
       "      <th></th>\n",
       "      <th>Roll No.</th>\n",
       "      <th>Name</th>\n",
       "      <th>Gender</th>\n",
       "      <th>Address</th>\n",
       "      <th>Suburb</th>\n",
       "      <th>Fee Status</th>\n",
       "      <th>Height</th>\n",
       "      <th>Weight</th>\n",
       "      <th>Family Income</th>\n",
       "      <th>Math Score</th>\n",
       "      <th>Science Score</th>\n",
       "      <th>English Score</th>\n",
       "    </tr>\n",
       "  </thead>\n",
       "  <tbody>\n",
       "    <tr>\n",
       "      <th>0</th>\n",
       "      <td>1</td>\n",
       "      <td>James</td>\n",
       "      <td>M</td>\n",
       "      <td>85 Turner St</td>\n",
       "      <td>Abbotsford</td>\n",
       "      <td>Paid</td>\n",
       "      <td>65.78331</td>\n",
       "      <td>112.9925</td>\n",
       "      <td>226802.0</td>\n",
       "      <td>72.0</td>\n",
       "      <td>72.0</td>\n",
       "      <td>74.0</td>\n",
       "    </tr>\n",
       "    <tr>\n",
       "      <th>1</th>\n",
       "      <td>2</td>\n",
       "      <td>John</td>\n",
       "      <td>M</td>\n",
       "      <td>25 Bloomburg St</td>\n",
       "      <td>Abbotsford</td>\n",
       "      <td>Paid</td>\n",
       "      <td>71.51521</td>\n",
       "      <td>136.4873</td>\n",
       "      <td>89814.0</td>\n",
       "      <td>69.0</td>\n",
       "      <td>90.0</td>\n",
       "      <td>88.0</td>\n",
       "    </tr>\n",
       "    <tr>\n",
       "      <th>2</th>\n",
       "      <td>3</td>\n",
       "      <td>Robert</td>\n",
       "      <td>M</td>\n",
       "      <td>5 Charles St</td>\n",
       "      <td>Abbotsford</td>\n",
       "      <td>NaN</td>\n",
       "      <td>69.39874</td>\n",
       "      <td>153.0269</td>\n",
       "      <td>336951.0</td>\n",
       "      <td>90.0</td>\n",
       "      <td>95.0</td>\n",
       "      <td>93.0</td>\n",
       "    </tr>\n",
       "    <tr>\n",
       "      <th>3</th>\n",
       "      <td>4</td>\n",
       "      <td>Michael</td>\n",
       "      <td>M</td>\n",
       "      <td>40 Federation La</td>\n",
       "      <td>Abbotsford</td>\n",
       "      <td>Paid</td>\n",
       "      <td>68.21660</td>\n",
       "      <td>142.3354</td>\n",
       "      <td>160323.0</td>\n",
       "      <td>47.0</td>\n",
       "      <td>57.0</td>\n",
       "      <td>44.0</td>\n",
       "    </tr>\n",
       "    <tr>\n",
       "      <th>4</th>\n",
       "      <td>5</td>\n",
       "      <td>William</td>\n",
       "      <td>M</td>\n",
       "      <td>55a Park St</td>\n",
       "      <td>Abbotsford</td>\n",
       "      <td>Paid</td>\n",
       "      <td>67.78781</td>\n",
       "      <td>144.2971</td>\n",
       "      <td>103497.0</td>\n",
       "      <td>76.0</td>\n",
       "      <td>78.0</td>\n",
       "      <td>75.0</td>\n",
       "    </tr>\n",
       "    <tr>\n",
       "      <th>...</th>\n",
       "      <td>...</td>\n",
       "      <td>...</td>\n",
       "      <td>...</td>\n",
       "      <td>...</td>\n",
       "      <td>...</td>\n",
       "      <td>...</td>\n",
       "      <td>...</td>\n",
       "      <td>...</td>\n",
       "      <td>...</td>\n",
       "      <td>...</td>\n",
       "      <td>...</td>\n",
       "      <td>...</td>\n",
       "    </tr>\n",
       "    <tr>\n",
       "      <th>245</th>\n",
       "      <td>246</td>\n",
       "      <td>Peggy</td>\n",
       "      <td>F</td>\n",
       "      <td>40 New St</td>\n",
       "      <td>Armadale</td>\n",
       "      <td>Paid</td>\n",
       "      <td>69.89473</td>\n",
       "      <td>115.6752</td>\n",
       "      <td>110342.0</td>\n",
       "      <td>85.0</td>\n",
       "      <td>76.0</td>\n",
       "      <td>71.0</td>\n",
       "    </tr>\n",
       "    <tr>\n",
       "      <th>246</th>\n",
       "      <td>247</td>\n",
       "      <td>Caleb</td>\n",
       "      <td>M</td>\n",
       "      <td>35 Northcote Rd</td>\n",
       "      <td>Armadale</td>\n",
       "      <td>Paid</td>\n",
       "      <td>69.83048</td>\n",
       "      <td>134.7905</td>\n",
       "      <td>143385.0</td>\n",
       "      <td>89.0</td>\n",
       "      <td>76.0</td>\n",
       "      <td>74.0</td>\n",
       "    </tr>\n",
       "    <tr>\n",
       "      <th>247</th>\n",
       "      <td>248</td>\n",
       "      <td>Eleanor</td>\n",
       "      <td>F</td>\n",
       "      <td>7/53 Wattletree Rd</td>\n",
       "      <td>Armadale</td>\n",
       "      <td>Paid</td>\n",
       "      <td>65.39790</td>\n",
       "      <td>120.5746</td>\n",
       "      <td>107189.0</td>\n",
       "      <td>NaN</td>\n",
       "      <td>70.0</td>\n",
       "      <td>68.0</td>\n",
       "    </tr>\n",
       "    <tr>\n",
       "      <th>248</th>\n",
       "      <td>249</td>\n",
       "      <td>Isaac</td>\n",
       "      <td>M</td>\n",
       "      <td>791 High St</td>\n",
       "      <td>Armadale</td>\n",
       "      <td>Paid</td>\n",
       "      <td>68.32214</td>\n",
       "      <td>120.0835</td>\n",
       "      <td>212944.0</td>\n",
       "      <td>65.0</td>\n",
       "      <td>64.0</td>\n",
       "      <td>62.0</td>\n",
       "    </tr>\n",
       "    <tr>\n",
       "      <th>249</th>\n",
       "      <td>250</td>\n",
       "      <td>Todd</td>\n",
       "      <td>M</td>\n",
       "      <td>25 Llaneast St</td>\n",
       "      <td>Armadale</td>\n",
       "      <td>Paid</td>\n",
       "      <td>65.83982</td>\n",
       "      <td>106.2265</td>\n",
       "      <td>138634.0</td>\n",
       "      <td>68.0</td>\n",
       "      <td>60.0</td>\n",
       "      <td>53.0</td>\n",
       "    </tr>\n",
       "  </tbody>\n",
       "</table>\n",
       "<p>250 rows × 12 columns</p>\n",
       "</div>"
      ],
      "text/plain": [
       "     Roll No.     Name Gender             Address      Suburb Fee Status  \\\n",
       "0           1    James      M        85 Turner St  Abbotsford       Paid   \n",
       "1           2     John      M     25 Bloomburg St  Abbotsford       Paid   \n",
       "2           3   Robert      M        5 Charles St  Abbotsford        NaN   \n",
       "3           4  Michael      M    40 Federation La  Abbotsford       Paid   \n",
       "4           5  William      M         55a Park St  Abbotsford       Paid   \n",
       "..        ...      ...    ...                 ...         ...        ...   \n",
       "245       246    Peggy      F           40 New St    Armadale       Paid   \n",
       "246       247    Caleb      M     35 Northcote Rd    Armadale       Paid   \n",
       "247       248  Eleanor      F  7/53 Wattletree Rd    Armadale       Paid   \n",
       "248       249    Isaac      M         791 High St    Armadale       Paid   \n",
       "249       250     Todd      M      25 Llaneast St    Armadale       Paid   \n",
       "\n",
       "       Height    Weight  Family Income  Math Score  Science Score  \\\n",
       "0    65.78331  112.9925       226802.0        72.0           72.0   \n",
       "1    71.51521  136.4873        89814.0        69.0           90.0   \n",
       "2    69.39874  153.0269       336951.0        90.0           95.0   \n",
       "3    68.21660  142.3354       160323.0        47.0           57.0   \n",
       "4    67.78781  144.2971       103497.0        76.0           78.0   \n",
       "..        ...       ...            ...         ...            ...   \n",
       "245  69.89473  115.6752       110342.0        85.0           76.0   \n",
       "246  69.83048  134.7905       143385.0        89.0           76.0   \n",
       "247  65.39790  120.5746       107189.0         NaN           70.0   \n",
       "248  68.32214  120.0835       212944.0        65.0           64.0   \n",
       "249  65.83982  106.2265       138634.0        68.0           60.0   \n",
       "\n",
       "     English Score  \n",
       "0             74.0  \n",
       "1             88.0  \n",
       "2             93.0  \n",
       "3             44.0  \n",
       "4             75.0  \n",
       "..             ...  \n",
       "245           71.0  \n",
       "246           74.0  \n",
       "247           68.0  \n",
       "248           62.0  \n",
       "249           53.0  \n",
       "\n",
       "[250 rows x 12 columns]"
      ]
     },
     "execution_count": 3,
     "metadata": {},
     "output_type": "execute_result"
    }
   ],
   "source": [
    "df"
   ]
  },
  {
   "cell_type": "code",
   "execution_count": 4,
   "id": "50289773",
   "metadata": {},
   "outputs": [
    {
     "data": {
      "text/html": [
       "<div>\n",
       "<style scoped>\n",
       "    .dataframe tbody tr th:only-of-type {\n",
       "        vertical-align: middle;\n",
       "    }\n",
       "\n",
       "    .dataframe tbody tr th {\n",
       "        vertical-align: top;\n",
       "    }\n",
       "\n",
       "    .dataframe thead th {\n",
       "        text-align: right;\n",
       "    }\n",
       "</style>\n",
       "<table border=\"1\" class=\"dataframe\">\n",
       "  <thead>\n",
       "    <tr style=\"text-align: right;\">\n",
       "      <th></th>\n",
       "      <th>Roll No.</th>\n",
       "      <th>Name</th>\n",
       "      <th>Gender</th>\n",
       "      <th>Address</th>\n",
       "      <th>Suburb</th>\n",
       "      <th>Fee Status</th>\n",
       "      <th>Height</th>\n",
       "      <th>Weight</th>\n",
       "      <th>Family Income</th>\n",
       "      <th>Math Score</th>\n",
       "      <th>Science Score</th>\n",
       "      <th>English Score</th>\n",
       "    </tr>\n",
       "  </thead>\n",
       "  <tbody>\n",
       "    <tr>\n",
       "      <th>0</th>\n",
       "      <td>1</td>\n",
       "      <td>James</td>\n",
       "      <td>M</td>\n",
       "      <td>85 Turner St</td>\n",
       "      <td>Abbotsford</td>\n",
       "      <td>Paid</td>\n",
       "      <td>65.78331</td>\n",
       "      <td>112.9925</td>\n",
       "      <td>226802.0</td>\n",
       "      <td>72.0</td>\n",
       "      <td>72.0</td>\n",
       "      <td>74.0</td>\n",
       "    </tr>\n",
       "    <tr>\n",
       "      <th>1</th>\n",
       "      <td>2</td>\n",
       "      <td>John</td>\n",
       "      <td>M</td>\n",
       "      <td>25 Bloomburg St</td>\n",
       "      <td>Abbotsford</td>\n",
       "      <td>Paid</td>\n",
       "      <td>71.51521</td>\n",
       "      <td>136.4873</td>\n",
       "      <td>89814.0</td>\n",
       "      <td>69.0</td>\n",
       "      <td>90.0</td>\n",
       "      <td>88.0</td>\n",
       "    </tr>\n",
       "    <tr>\n",
       "      <th>2</th>\n",
       "      <td>3</td>\n",
       "      <td>Robert</td>\n",
       "      <td>M</td>\n",
       "      <td>5 Charles St</td>\n",
       "      <td>Abbotsford</td>\n",
       "      <td>NaN</td>\n",
       "      <td>69.39874</td>\n",
       "      <td>153.0269</td>\n",
       "      <td>336951.0</td>\n",
       "      <td>90.0</td>\n",
       "      <td>95.0</td>\n",
       "      <td>93.0</td>\n",
       "    </tr>\n",
       "    <tr>\n",
       "      <th>3</th>\n",
       "      <td>4</td>\n",
       "      <td>Michael</td>\n",
       "      <td>M</td>\n",
       "      <td>40 Federation La</td>\n",
       "      <td>Abbotsford</td>\n",
       "      <td>Paid</td>\n",
       "      <td>68.21660</td>\n",
       "      <td>142.3354</td>\n",
       "      <td>160323.0</td>\n",
       "      <td>47.0</td>\n",
       "      <td>57.0</td>\n",
       "      <td>44.0</td>\n",
       "    </tr>\n",
       "    <tr>\n",
       "      <th>4</th>\n",
       "      <td>5</td>\n",
       "      <td>William</td>\n",
       "      <td>M</td>\n",
       "      <td>55a Park St</td>\n",
       "      <td>Abbotsford</td>\n",
       "      <td>Paid</td>\n",
       "      <td>67.78781</td>\n",
       "      <td>144.2971</td>\n",
       "      <td>103497.0</td>\n",
       "      <td>76.0</td>\n",
       "      <td>78.0</td>\n",
       "      <td>75.0</td>\n",
       "    </tr>\n",
       "  </tbody>\n",
       "</table>\n",
       "</div>"
      ],
      "text/plain": [
       "   Roll No.     Name Gender           Address      Suburb Fee Status  \\\n",
       "0         1    James      M      85 Turner St  Abbotsford       Paid   \n",
       "1         2     John      M   25 Bloomburg St  Abbotsford       Paid   \n",
       "2         3   Robert      M      5 Charles St  Abbotsford        NaN   \n",
       "3         4  Michael      M  40 Federation La  Abbotsford       Paid   \n",
       "4         5  William      M       55a Park St  Abbotsford       Paid   \n",
       "\n",
       "     Height    Weight  Family Income  Math Score  Science Score  English Score  \n",
       "0  65.78331  112.9925       226802.0        72.0           72.0           74.0  \n",
       "1  71.51521  136.4873        89814.0        69.0           90.0           88.0  \n",
       "2  69.39874  153.0269       336951.0        90.0           95.0           93.0  \n",
       "3  68.21660  142.3354       160323.0        47.0           57.0           44.0  \n",
       "4  67.78781  144.2971       103497.0        76.0           78.0           75.0  "
      ]
     },
     "execution_count": 4,
     "metadata": {},
     "output_type": "execute_result"
    }
   ],
   "source": [
    "df.head()"
   ]
  },
  {
   "cell_type": "code",
   "execution_count": 5,
   "id": "e805260b",
   "metadata": {},
   "outputs": [
    {
     "data": {
      "text/html": [
       "<div>\n",
       "<style scoped>\n",
       "    .dataframe tbody tr th:only-of-type {\n",
       "        vertical-align: middle;\n",
       "    }\n",
       "\n",
       "    .dataframe tbody tr th {\n",
       "        vertical-align: top;\n",
       "    }\n",
       "\n",
       "    .dataframe thead th {\n",
       "        text-align: right;\n",
       "    }\n",
       "</style>\n",
       "<table border=\"1\" class=\"dataframe\">\n",
       "  <thead>\n",
       "    <tr style=\"text-align: right;\">\n",
       "      <th></th>\n",
       "      <th>Roll No.</th>\n",
       "      <th>Name</th>\n",
       "      <th>Gender</th>\n",
       "      <th>Address</th>\n",
       "      <th>Suburb</th>\n",
       "      <th>Fee Status</th>\n",
       "      <th>Height</th>\n",
       "      <th>Weight</th>\n",
       "      <th>Family Income</th>\n",
       "      <th>Math Score</th>\n",
       "      <th>Science Score</th>\n",
       "      <th>English Score</th>\n",
       "    </tr>\n",
       "  </thead>\n",
       "  <tbody>\n",
       "    <tr>\n",
       "      <th>245</th>\n",
       "      <td>246</td>\n",
       "      <td>Peggy</td>\n",
       "      <td>F</td>\n",
       "      <td>40 New St</td>\n",
       "      <td>Armadale</td>\n",
       "      <td>Paid</td>\n",
       "      <td>69.89473</td>\n",
       "      <td>115.6752</td>\n",
       "      <td>110342.0</td>\n",
       "      <td>85.0</td>\n",
       "      <td>76.0</td>\n",
       "      <td>71.0</td>\n",
       "    </tr>\n",
       "    <tr>\n",
       "      <th>246</th>\n",
       "      <td>247</td>\n",
       "      <td>Caleb</td>\n",
       "      <td>M</td>\n",
       "      <td>35 Northcote Rd</td>\n",
       "      <td>Armadale</td>\n",
       "      <td>Paid</td>\n",
       "      <td>69.83048</td>\n",
       "      <td>134.7905</td>\n",
       "      <td>143385.0</td>\n",
       "      <td>89.0</td>\n",
       "      <td>76.0</td>\n",
       "      <td>74.0</td>\n",
       "    </tr>\n",
       "    <tr>\n",
       "      <th>247</th>\n",
       "      <td>248</td>\n",
       "      <td>Eleanor</td>\n",
       "      <td>F</td>\n",
       "      <td>7/53 Wattletree Rd</td>\n",
       "      <td>Armadale</td>\n",
       "      <td>Paid</td>\n",
       "      <td>65.39790</td>\n",
       "      <td>120.5746</td>\n",
       "      <td>107189.0</td>\n",
       "      <td>NaN</td>\n",
       "      <td>70.0</td>\n",
       "      <td>68.0</td>\n",
       "    </tr>\n",
       "    <tr>\n",
       "      <th>248</th>\n",
       "      <td>249</td>\n",
       "      <td>Isaac</td>\n",
       "      <td>M</td>\n",
       "      <td>791 High St</td>\n",
       "      <td>Armadale</td>\n",
       "      <td>Paid</td>\n",
       "      <td>68.32214</td>\n",
       "      <td>120.0835</td>\n",
       "      <td>212944.0</td>\n",
       "      <td>65.0</td>\n",
       "      <td>64.0</td>\n",
       "      <td>62.0</td>\n",
       "    </tr>\n",
       "    <tr>\n",
       "      <th>249</th>\n",
       "      <td>250</td>\n",
       "      <td>Todd</td>\n",
       "      <td>M</td>\n",
       "      <td>25 Llaneast St</td>\n",
       "      <td>Armadale</td>\n",
       "      <td>Paid</td>\n",
       "      <td>65.83982</td>\n",
       "      <td>106.2265</td>\n",
       "      <td>138634.0</td>\n",
       "      <td>68.0</td>\n",
       "      <td>60.0</td>\n",
       "      <td>53.0</td>\n",
       "    </tr>\n",
       "  </tbody>\n",
       "</table>\n",
       "</div>"
      ],
      "text/plain": [
       "     Roll No.     Name Gender             Address    Suburb Fee Status  \\\n",
       "245       246    Peggy      F           40 New St  Armadale       Paid   \n",
       "246       247    Caleb      M     35 Northcote Rd  Armadale       Paid   \n",
       "247       248  Eleanor      F  7/53 Wattletree Rd  Armadale       Paid   \n",
       "248       249    Isaac      M         791 High St  Armadale       Paid   \n",
       "249       250     Todd      M      25 Llaneast St  Armadale       Paid   \n",
       "\n",
       "       Height    Weight  Family Income  Math Score  Science Score  \\\n",
       "245  69.89473  115.6752       110342.0        85.0           76.0   \n",
       "246  69.83048  134.7905       143385.0        89.0           76.0   \n",
       "247  65.39790  120.5746       107189.0         NaN           70.0   \n",
       "248  68.32214  120.0835       212944.0        65.0           64.0   \n",
       "249  65.83982  106.2265       138634.0        68.0           60.0   \n",
       "\n",
       "     English Score  \n",
       "245           71.0  \n",
       "246           74.0  \n",
       "247           68.0  \n",
       "248           62.0  \n",
       "249           53.0  "
      ]
     },
     "execution_count": 5,
     "metadata": {},
     "output_type": "execute_result"
    }
   ],
   "source": [
    "df.tail()"
   ]
  },
  {
   "cell_type": "code",
   "execution_count": 6,
   "id": "10914ece",
   "metadata": {},
   "outputs": [
    {
     "data": {
      "text/plain": [
       "250"
      ]
     },
     "execution_count": 6,
     "metadata": {},
     "output_type": "execute_result"
    }
   ],
   "source": [
    "len(df)"
   ]
  },
  {
   "cell_type": "code",
   "execution_count": 7,
   "id": "62064cc2",
   "metadata": {},
   "outputs": [
    {
     "data": {
      "text/plain": [
       "(250, 12)"
      ]
     },
     "execution_count": 7,
     "metadata": {},
     "output_type": "execute_result"
    }
   ],
   "source": [
    "df.shape"
   ]
  },
  {
   "cell_type": "code",
   "execution_count": 8,
   "id": "e5ae2fae",
   "metadata": {},
   "outputs": [
    {
     "data": {
      "text/html": [
       "<div>\n",
       "<style scoped>\n",
       "    .dataframe tbody tr th:only-of-type {\n",
       "        vertical-align: middle;\n",
       "    }\n",
       "\n",
       "    .dataframe tbody tr th {\n",
       "        vertical-align: top;\n",
       "    }\n",
       "\n",
       "    .dataframe thead th {\n",
       "        text-align: right;\n",
       "    }\n",
       "</style>\n",
       "<table border=\"1\" class=\"dataframe\">\n",
       "  <thead>\n",
       "    <tr style=\"text-align: right;\">\n",
       "      <th></th>\n",
       "      <th>Roll No.</th>\n",
       "      <th>Height</th>\n",
       "      <th>Weight</th>\n",
       "      <th>Family Income</th>\n",
       "      <th>Math Score</th>\n",
       "      <th>Science Score</th>\n",
       "      <th>English Score</th>\n",
       "    </tr>\n",
       "  </thead>\n",
       "  <tbody>\n",
       "    <tr>\n",
       "      <th>count</th>\n",
       "      <td>250.000000</td>\n",
       "      <td>245.000000</td>\n",
       "      <td>245.000000</td>\n",
       "      <td>247.000000</td>\n",
       "      <td>234.000000</td>\n",
       "      <td>236.000000</td>\n",
       "      <td>241.000000</td>\n",
       "    </tr>\n",
       "    <tr>\n",
       "      <th>mean</th>\n",
       "      <td>125.500000</td>\n",
       "      <td>67.997459</td>\n",
       "      <td>127.251664</td>\n",
       "      <td>188774.846154</td>\n",
       "      <td>66.264957</td>\n",
       "      <td>67.169492</td>\n",
       "      <td>67.427386</td>\n",
       "    </tr>\n",
       "    <tr>\n",
       "      <th>std</th>\n",
       "      <td>72.312977</td>\n",
       "      <td>1.921536</td>\n",
       "      <td>11.946864</td>\n",
       "      <td>100654.655172</td>\n",
       "      <td>33.759791</td>\n",
       "      <td>17.644144</td>\n",
       "      <td>20.381055</td>\n",
       "    </tr>\n",
       "    <tr>\n",
       "      <th>min</th>\n",
       "      <td>1.000000</td>\n",
       "      <td>63.425770</td>\n",
       "      <td>97.901910</td>\n",
       "      <td>21175.000000</td>\n",
       "      <td>1.000000</td>\n",
       "      <td>2.000000</td>\n",
       "      <td>10.000000</td>\n",
       "    </tr>\n",
       "    <tr>\n",
       "      <th>25%</th>\n",
       "      <td>63.250000</td>\n",
       "      <td>66.593470</td>\n",
       "      <td>119.308700</td>\n",
       "      <td>110509.500000</td>\n",
       "      <td>55.000000</td>\n",
       "      <td>56.000000</td>\n",
       "      <td>56.000000</td>\n",
       "    </tr>\n",
       "    <tr>\n",
       "      <th>50%</th>\n",
       "      <td>125.500000</td>\n",
       "      <td>68.021200</td>\n",
       "      <td>127.869300</td>\n",
       "      <td>177493.000000</td>\n",
       "      <td>65.500000</td>\n",
       "      <td>69.000000</td>\n",
       "      <td>68.000000</td>\n",
       "    </tr>\n",
       "    <tr>\n",
       "      <th>75%</th>\n",
       "      <td>187.750000</td>\n",
       "      <td>69.370030</td>\n",
       "      <td>136.063200</td>\n",
       "      <td>238942.000000</td>\n",
       "      <td>76.750000</td>\n",
       "      <td>80.000000</td>\n",
       "      <td>78.000000</td>\n",
       "    </tr>\n",
       "    <tr>\n",
       "      <th>max</th>\n",
       "      <td>250.000000</td>\n",
       "      <td>73.901070</td>\n",
       "      <td>158.956200</td>\n",
       "      <td>513100.000000</td>\n",
       "      <td>504.000000</td>\n",
       "      <td>100.000000</td>\n",
       "      <td>230.000000</td>\n",
       "    </tr>\n",
       "  </tbody>\n",
       "</table>\n",
       "</div>"
      ],
      "text/plain": [
       "         Roll No.      Height      Weight  Family Income  Math Score  \\\n",
       "count  250.000000  245.000000  245.000000     247.000000  234.000000   \n",
       "mean   125.500000   67.997459  127.251664  188774.846154   66.264957   \n",
       "std     72.312977    1.921536   11.946864  100654.655172   33.759791   \n",
       "min      1.000000   63.425770   97.901910   21175.000000    1.000000   \n",
       "25%     63.250000   66.593470  119.308700  110509.500000   55.000000   \n",
       "50%    125.500000   68.021200  127.869300  177493.000000   65.500000   \n",
       "75%    187.750000   69.370030  136.063200  238942.000000   76.750000   \n",
       "max    250.000000   73.901070  158.956200  513100.000000  504.000000   \n",
       "\n",
       "       Science Score  English Score  \n",
       "count     236.000000     241.000000  \n",
       "mean       67.169492      67.427386  \n",
       "std        17.644144      20.381055  \n",
       "min         2.000000      10.000000  \n",
       "25%        56.000000      56.000000  \n",
       "50%        69.000000      68.000000  \n",
       "75%        80.000000      78.000000  \n",
       "max       100.000000     230.000000  "
      ]
     },
     "execution_count": 8,
     "metadata": {},
     "output_type": "execute_result"
    }
   ],
   "source": [
    "df.describe()"
   ]
  },
  {
   "cell_type": "code",
   "execution_count": 9,
   "id": "a5e78344",
   "metadata": {},
   "outputs": [
    {
     "name": "stdout",
     "output_type": "stream",
     "text": [
      "<class 'pandas.core.frame.DataFrame'>\n",
      "RangeIndex: 250 entries, 0 to 249\n",
      "Data columns (total 12 columns):\n",
      " #   Column         Non-Null Count  Dtype  \n",
      "---  ------         --------------  -----  \n",
      " 0   Roll No.       250 non-null    int64  \n",
      " 1   Name           250 non-null    object \n",
      " 2   Gender         250 non-null    object \n",
      " 3   Address        250 non-null    object \n",
      " 4   Suburb         240 non-null    object \n",
      " 5   Fee Status     222 non-null    object \n",
      " 6   Height         245 non-null    float64\n",
      " 7   Weight         245 non-null    float64\n",
      " 8   Family Income  247 non-null    float64\n",
      " 9   Math Score     234 non-null    float64\n",
      " 10  Science Score  236 non-null    float64\n",
      " 11  English Score  241 non-null    float64\n",
      "dtypes: float64(6), int64(1), object(5)\n",
      "memory usage: 23.6+ KB\n"
     ]
    }
   ],
   "source": [
    "df.info()"
   ]
  },
  {
   "cell_type": "markdown",
   "id": "6b8c72d9",
   "metadata": {},
   "source": [
    "1. Scan all variables for missing values and inconsistencies. If there are missing values and/or\n",
    "inconsistencies, use the following techniques to deal with them. \\\n",
    "a) Delete rows or column \\\n",
    "b) Replace missing values with mean \\\n",
    "c) Replace missing values with mode \\\n",
    "d) Replace missing values with median "
   ]
  },
  {
   "cell_type": "code",
   "execution_count": 10,
   "id": "1786e48c",
   "metadata": {},
   "outputs": [
    {
     "data": {
      "text/html": [
       "<div>\n",
       "<style scoped>\n",
       "    .dataframe tbody tr th:only-of-type {\n",
       "        vertical-align: middle;\n",
       "    }\n",
       "\n",
       "    .dataframe tbody tr th {\n",
       "        vertical-align: top;\n",
       "    }\n",
       "\n",
       "    .dataframe thead th {\n",
       "        text-align: right;\n",
       "    }\n",
       "</style>\n",
       "<table border=\"1\" class=\"dataframe\">\n",
       "  <thead>\n",
       "    <tr style=\"text-align: right;\">\n",
       "      <th></th>\n",
       "      <th>Roll No.</th>\n",
       "      <th>Name</th>\n",
       "      <th>Gender</th>\n",
       "      <th>Address</th>\n",
       "      <th>Suburb</th>\n",
       "      <th>Fee Status</th>\n",
       "      <th>Height</th>\n",
       "      <th>Weight</th>\n",
       "      <th>Family Income</th>\n",
       "      <th>Math Score</th>\n",
       "      <th>Science Score</th>\n",
       "      <th>English Score</th>\n",
       "    </tr>\n",
       "  </thead>\n",
       "  <tbody>\n",
       "    <tr>\n",
       "      <th>0</th>\n",
       "      <td>False</td>\n",
       "      <td>False</td>\n",
       "      <td>False</td>\n",
       "      <td>False</td>\n",
       "      <td>False</td>\n",
       "      <td>False</td>\n",
       "      <td>False</td>\n",
       "      <td>False</td>\n",
       "      <td>False</td>\n",
       "      <td>False</td>\n",
       "      <td>False</td>\n",
       "      <td>False</td>\n",
       "    </tr>\n",
       "    <tr>\n",
       "      <th>1</th>\n",
       "      <td>False</td>\n",
       "      <td>False</td>\n",
       "      <td>False</td>\n",
       "      <td>False</td>\n",
       "      <td>False</td>\n",
       "      <td>False</td>\n",
       "      <td>False</td>\n",
       "      <td>False</td>\n",
       "      <td>False</td>\n",
       "      <td>False</td>\n",
       "      <td>False</td>\n",
       "      <td>False</td>\n",
       "    </tr>\n",
       "    <tr>\n",
       "      <th>2</th>\n",
       "      <td>False</td>\n",
       "      <td>False</td>\n",
       "      <td>False</td>\n",
       "      <td>False</td>\n",
       "      <td>False</td>\n",
       "      <td>True</td>\n",
       "      <td>False</td>\n",
       "      <td>False</td>\n",
       "      <td>False</td>\n",
       "      <td>False</td>\n",
       "      <td>False</td>\n",
       "      <td>False</td>\n",
       "    </tr>\n",
       "    <tr>\n",
       "      <th>3</th>\n",
       "      <td>False</td>\n",
       "      <td>False</td>\n",
       "      <td>False</td>\n",
       "      <td>False</td>\n",
       "      <td>False</td>\n",
       "      <td>False</td>\n",
       "      <td>False</td>\n",
       "      <td>False</td>\n",
       "      <td>False</td>\n",
       "      <td>False</td>\n",
       "      <td>False</td>\n",
       "      <td>False</td>\n",
       "    </tr>\n",
       "    <tr>\n",
       "      <th>4</th>\n",
       "      <td>False</td>\n",
       "      <td>False</td>\n",
       "      <td>False</td>\n",
       "      <td>False</td>\n",
       "      <td>False</td>\n",
       "      <td>False</td>\n",
       "      <td>False</td>\n",
       "      <td>False</td>\n",
       "      <td>False</td>\n",
       "      <td>False</td>\n",
       "      <td>False</td>\n",
       "      <td>False</td>\n",
       "    </tr>\n",
       "    <tr>\n",
       "      <th>...</th>\n",
       "      <td>...</td>\n",
       "      <td>...</td>\n",
       "      <td>...</td>\n",
       "      <td>...</td>\n",
       "      <td>...</td>\n",
       "      <td>...</td>\n",
       "      <td>...</td>\n",
       "      <td>...</td>\n",
       "      <td>...</td>\n",
       "      <td>...</td>\n",
       "      <td>...</td>\n",
       "      <td>...</td>\n",
       "    </tr>\n",
       "    <tr>\n",
       "      <th>245</th>\n",
       "      <td>False</td>\n",
       "      <td>False</td>\n",
       "      <td>False</td>\n",
       "      <td>False</td>\n",
       "      <td>False</td>\n",
       "      <td>False</td>\n",
       "      <td>False</td>\n",
       "      <td>False</td>\n",
       "      <td>False</td>\n",
       "      <td>False</td>\n",
       "      <td>False</td>\n",
       "      <td>False</td>\n",
       "    </tr>\n",
       "    <tr>\n",
       "      <th>246</th>\n",
       "      <td>False</td>\n",
       "      <td>False</td>\n",
       "      <td>False</td>\n",
       "      <td>False</td>\n",
       "      <td>False</td>\n",
       "      <td>False</td>\n",
       "      <td>False</td>\n",
       "      <td>False</td>\n",
       "      <td>False</td>\n",
       "      <td>False</td>\n",
       "      <td>False</td>\n",
       "      <td>False</td>\n",
       "    </tr>\n",
       "    <tr>\n",
       "      <th>247</th>\n",
       "      <td>False</td>\n",
       "      <td>False</td>\n",
       "      <td>False</td>\n",
       "      <td>False</td>\n",
       "      <td>False</td>\n",
       "      <td>False</td>\n",
       "      <td>False</td>\n",
       "      <td>False</td>\n",
       "      <td>False</td>\n",
       "      <td>True</td>\n",
       "      <td>False</td>\n",
       "      <td>False</td>\n",
       "    </tr>\n",
       "    <tr>\n",
       "      <th>248</th>\n",
       "      <td>False</td>\n",
       "      <td>False</td>\n",
       "      <td>False</td>\n",
       "      <td>False</td>\n",
       "      <td>False</td>\n",
       "      <td>False</td>\n",
       "      <td>False</td>\n",
       "      <td>False</td>\n",
       "      <td>False</td>\n",
       "      <td>False</td>\n",
       "      <td>False</td>\n",
       "      <td>False</td>\n",
       "    </tr>\n",
       "    <tr>\n",
       "      <th>249</th>\n",
       "      <td>False</td>\n",
       "      <td>False</td>\n",
       "      <td>False</td>\n",
       "      <td>False</td>\n",
       "      <td>False</td>\n",
       "      <td>False</td>\n",
       "      <td>False</td>\n",
       "      <td>False</td>\n",
       "      <td>False</td>\n",
       "      <td>False</td>\n",
       "      <td>False</td>\n",
       "      <td>False</td>\n",
       "    </tr>\n",
       "  </tbody>\n",
       "</table>\n",
       "<p>250 rows × 12 columns</p>\n",
       "</div>"
      ],
      "text/plain": [
       "     Roll No.   Name  Gender  Address  Suburb  Fee Status  Height  Weight  \\\n",
       "0       False  False   False    False   False       False   False   False   \n",
       "1       False  False   False    False   False       False   False   False   \n",
       "2       False  False   False    False   False        True   False   False   \n",
       "3       False  False   False    False   False       False   False   False   \n",
       "4       False  False   False    False   False       False   False   False   \n",
       "..        ...    ...     ...      ...     ...         ...     ...     ...   \n",
       "245     False  False   False    False   False       False   False   False   \n",
       "246     False  False   False    False   False       False   False   False   \n",
       "247     False  False   False    False   False       False   False   False   \n",
       "248     False  False   False    False   False       False   False   False   \n",
       "249     False  False   False    False   False       False   False   False   \n",
       "\n",
       "     Family Income  Math Score  Science Score  English Score  \n",
       "0            False       False          False          False  \n",
       "1            False       False          False          False  \n",
       "2            False       False          False          False  \n",
       "3            False       False          False          False  \n",
       "4            False       False          False          False  \n",
       "..             ...         ...            ...            ...  \n",
       "245          False       False          False          False  \n",
       "246          False       False          False          False  \n",
       "247          False        True          False          False  \n",
       "248          False       False          False          False  \n",
       "249          False       False          False          False  \n",
       "\n",
       "[250 rows x 12 columns]"
      ]
     },
     "execution_count": 10,
     "metadata": {},
     "output_type": "execute_result"
    }
   ],
   "source": [
    "df.isna()"
   ]
  },
  {
   "cell_type": "code",
   "execution_count": 11,
   "id": "cfecb6c7",
   "metadata": {},
   "outputs": [
    {
     "data": {
      "text/plain": [
       "Roll No.          0\n",
       "Name              0\n",
       "Gender            0\n",
       "Address           0\n",
       "Suburb           10\n",
       "Fee Status       28\n",
       "Height            5\n",
       "Weight            5\n",
       "Family Income     3\n",
       "Math Score       16\n",
       "Science Score    14\n",
       "English Score     9\n",
       "dtype: int64"
      ]
     },
     "execution_count": 11,
     "metadata": {},
     "output_type": "execute_result"
    }
   ],
   "source": [
    "df.isna().sum()"
   ]
  },
  {
   "cell_type": "code",
   "execution_count": 12,
   "id": "e02d2d64",
   "metadata": {},
   "outputs": [],
   "source": [
    "# Deleting Columns with 3 or more than 3 missing values\n",
    "df.dropna(axis=0, thresh=10, inplace=True)"
   ]
  },
  {
   "cell_type": "code",
   "execution_count": 13,
   "id": "07fff498",
   "metadata": {},
   "outputs": [
    {
     "data": {
      "text/html": [
       "<div>\n",
       "<style scoped>\n",
       "    .dataframe tbody tr th:only-of-type {\n",
       "        vertical-align: middle;\n",
       "    }\n",
       "\n",
       "    .dataframe tbody tr th {\n",
       "        vertical-align: top;\n",
       "    }\n",
       "\n",
       "    .dataframe thead th {\n",
       "        text-align: right;\n",
       "    }\n",
       "</style>\n",
       "<table border=\"1\" class=\"dataframe\">\n",
       "  <thead>\n",
       "    <tr style=\"text-align: right;\">\n",
       "      <th></th>\n",
       "      <th>Roll No.</th>\n",
       "      <th>Name</th>\n",
       "      <th>Gender</th>\n",
       "      <th>Address</th>\n",
       "      <th>Suburb</th>\n",
       "      <th>Fee Status</th>\n",
       "      <th>Height</th>\n",
       "      <th>Weight</th>\n",
       "      <th>Family Income</th>\n",
       "      <th>Math Score</th>\n",
       "      <th>Science Score</th>\n",
       "      <th>English Score</th>\n",
       "    </tr>\n",
       "  </thead>\n",
       "  <tbody>\n",
       "    <tr>\n",
       "      <th>0</th>\n",
       "      <td>1</td>\n",
       "      <td>James</td>\n",
       "      <td>M</td>\n",
       "      <td>85 Turner St</td>\n",
       "      <td>Abbotsford</td>\n",
       "      <td>Paid</td>\n",
       "      <td>65.78331</td>\n",
       "      <td>112.9925</td>\n",
       "      <td>226802.0</td>\n",
       "      <td>72.0</td>\n",
       "      <td>72.0</td>\n",
       "      <td>74.0</td>\n",
       "    </tr>\n",
       "    <tr>\n",
       "      <th>1</th>\n",
       "      <td>2</td>\n",
       "      <td>John</td>\n",
       "      <td>M</td>\n",
       "      <td>25 Bloomburg St</td>\n",
       "      <td>Abbotsford</td>\n",
       "      <td>Paid</td>\n",
       "      <td>71.51521</td>\n",
       "      <td>136.4873</td>\n",
       "      <td>89814.0</td>\n",
       "      <td>69.0</td>\n",
       "      <td>90.0</td>\n",
       "      <td>88.0</td>\n",
       "    </tr>\n",
       "    <tr>\n",
       "      <th>2</th>\n",
       "      <td>3</td>\n",
       "      <td>Robert</td>\n",
       "      <td>M</td>\n",
       "      <td>5 Charles St</td>\n",
       "      <td>Abbotsford</td>\n",
       "      <td>NaN</td>\n",
       "      <td>69.39874</td>\n",
       "      <td>153.0269</td>\n",
       "      <td>336951.0</td>\n",
       "      <td>90.0</td>\n",
       "      <td>95.0</td>\n",
       "      <td>93.0</td>\n",
       "    </tr>\n",
       "    <tr>\n",
       "      <th>3</th>\n",
       "      <td>4</td>\n",
       "      <td>Michael</td>\n",
       "      <td>M</td>\n",
       "      <td>40 Federation La</td>\n",
       "      <td>Abbotsford</td>\n",
       "      <td>Paid</td>\n",
       "      <td>68.21660</td>\n",
       "      <td>142.3354</td>\n",
       "      <td>160323.0</td>\n",
       "      <td>47.0</td>\n",
       "      <td>57.0</td>\n",
       "      <td>44.0</td>\n",
       "    </tr>\n",
       "    <tr>\n",
       "      <th>4</th>\n",
       "      <td>5</td>\n",
       "      <td>William</td>\n",
       "      <td>M</td>\n",
       "      <td>55a Park St</td>\n",
       "      <td>Abbotsford</td>\n",
       "      <td>Paid</td>\n",
       "      <td>67.78781</td>\n",
       "      <td>144.2971</td>\n",
       "      <td>103497.0</td>\n",
       "      <td>76.0</td>\n",
       "      <td>78.0</td>\n",
       "      <td>75.0</td>\n",
       "    </tr>\n",
       "    <tr>\n",
       "      <th>...</th>\n",
       "      <td>...</td>\n",
       "      <td>...</td>\n",
       "      <td>...</td>\n",
       "      <td>...</td>\n",
       "      <td>...</td>\n",
       "      <td>...</td>\n",
       "      <td>...</td>\n",
       "      <td>...</td>\n",
       "      <td>...</td>\n",
       "      <td>...</td>\n",
       "      <td>...</td>\n",
       "      <td>...</td>\n",
       "    </tr>\n",
       "    <tr>\n",
       "      <th>245</th>\n",
       "      <td>246</td>\n",
       "      <td>Peggy</td>\n",
       "      <td>F</td>\n",
       "      <td>40 New St</td>\n",
       "      <td>Armadale</td>\n",
       "      <td>Paid</td>\n",
       "      <td>69.89473</td>\n",
       "      <td>115.6752</td>\n",
       "      <td>110342.0</td>\n",
       "      <td>85.0</td>\n",
       "      <td>76.0</td>\n",
       "      <td>71.0</td>\n",
       "    </tr>\n",
       "    <tr>\n",
       "      <th>246</th>\n",
       "      <td>247</td>\n",
       "      <td>Caleb</td>\n",
       "      <td>M</td>\n",
       "      <td>35 Northcote Rd</td>\n",
       "      <td>Armadale</td>\n",
       "      <td>Paid</td>\n",
       "      <td>69.83048</td>\n",
       "      <td>134.7905</td>\n",
       "      <td>143385.0</td>\n",
       "      <td>89.0</td>\n",
       "      <td>76.0</td>\n",
       "      <td>74.0</td>\n",
       "    </tr>\n",
       "    <tr>\n",
       "      <th>247</th>\n",
       "      <td>248</td>\n",
       "      <td>Eleanor</td>\n",
       "      <td>F</td>\n",
       "      <td>7/53 Wattletree Rd</td>\n",
       "      <td>Armadale</td>\n",
       "      <td>Paid</td>\n",
       "      <td>65.39790</td>\n",
       "      <td>120.5746</td>\n",
       "      <td>107189.0</td>\n",
       "      <td>NaN</td>\n",
       "      <td>70.0</td>\n",
       "      <td>68.0</td>\n",
       "    </tr>\n",
       "    <tr>\n",
       "      <th>248</th>\n",
       "      <td>249</td>\n",
       "      <td>Isaac</td>\n",
       "      <td>M</td>\n",
       "      <td>791 High St</td>\n",
       "      <td>Armadale</td>\n",
       "      <td>Paid</td>\n",
       "      <td>68.32214</td>\n",
       "      <td>120.0835</td>\n",
       "      <td>212944.0</td>\n",
       "      <td>65.0</td>\n",
       "      <td>64.0</td>\n",
       "      <td>62.0</td>\n",
       "    </tr>\n",
       "    <tr>\n",
       "      <th>249</th>\n",
       "      <td>250</td>\n",
       "      <td>Todd</td>\n",
       "      <td>M</td>\n",
       "      <td>25 Llaneast St</td>\n",
       "      <td>Armadale</td>\n",
       "      <td>Paid</td>\n",
       "      <td>65.83982</td>\n",
       "      <td>106.2265</td>\n",
       "      <td>138634.0</td>\n",
       "      <td>68.0</td>\n",
       "      <td>60.0</td>\n",
       "      <td>53.0</td>\n",
       "    </tr>\n",
       "  </tbody>\n",
       "</table>\n",
       "<p>246 rows × 12 columns</p>\n",
       "</div>"
      ],
      "text/plain": [
       "     Roll No.     Name Gender             Address      Suburb Fee Status  \\\n",
       "0           1    James      M        85 Turner St  Abbotsford       Paid   \n",
       "1           2     John      M     25 Bloomburg St  Abbotsford       Paid   \n",
       "2           3   Robert      M        5 Charles St  Abbotsford        NaN   \n",
       "3           4  Michael      M    40 Federation La  Abbotsford       Paid   \n",
       "4           5  William      M         55a Park St  Abbotsford       Paid   \n",
       "..        ...      ...    ...                 ...         ...        ...   \n",
       "245       246    Peggy      F           40 New St    Armadale       Paid   \n",
       "246       247    Caleb      M     35 Northcote Rd    Armadale       Paid   \n",
       "247       248  Eleanor      F  7/53 Wattletree Rd    Armadale       Paid   \n",
       "248       249    Isaac      M         791 High St    Armadale       Paid   \n",
       "249       250     Todd      M      25 Llaneast St    Armadale       Paid   \n",
       "\n",
       "       Height    Weight  Family Income  Math Score  Science Score  \\\n",
       "0    65.78331  112.9925       226802.0        72.0           72.0   \n",
       "1    71.51521  136.4873        89814.0        69.0           90.0   \n",
       "2    69.39874  153.0269       336951.0        90.0           95.0   \n",
       "3    68.21660  142.3354       160323.0        47.0           57.0   \n",
       "4    67.78781  144.2971       103497.0        76.0           78.0   \n",
       "..        ...       ...            ...         ...            ...   \n",
       "245  69.89473  115.6752       110342.0        85.0           76.0   \n",
       "246  69.83048  134.7905       143385.0        89.0           76.0   \n",
       "247  65.39790  120.5746       107189.0         NaN           70.0   \n",
       "248  68.32214  120.0835       212944.0        65.0           64.0   \n",
       "249  65.83982  106.2265       138634.0        68.0           60.0   \n",
       "\n",
       "     English Score  \n",
       "0             74.0  \n",
       "1             88.0  \n",
       "2             93.0  \n",
       "3             44.0  \n",
       "4             75.0  \n",
       "..             ...  \n",
       "245           71.0  \n",
       "246           74.0  \n",
       "247           68.0  \n",
       "248           62.0  \n",
       "249           53.0  \n",
       "\n",
       "[246 rows x 12 columns]"
      ]
     },
     "execution_count": 13,
     "metadata": {},
     "output_type": "execute_result"
    }
   ],
   "source": [
    "df"
   ]
  },
  {
   "cell_type": "code",
   "execution_count": 14,
   "id": "ae847a4d",
   "metadata": {},
   "outputs": [
    {
     "data": {
      "text/plain": [
       "(246, 12)"
      ]
     },
     "execution_count": 14,
     "metadata": {},
     "output_type": "execute_result"
    }
   ],
   "source": [
    "df.shape"
   ]
  },
  {
   "cell_type": "code",
   "execution_count": 15,
   "id": "e6ca9de8",
   "metadata": {},
   "outputs": [
    {
     "data": {
      "text/plain": [
       "Roll No.          0\n",
       "Name              0\n",
       "Gender            0\n",
       "Address           0\n",
       "Suburb            9\n",
       "Fee Status       28\n",
       "Height            5\n",
       "Weight            2\n",
       "Family Income     1\n",
       "Math Score       14\n",
       "Science Score    11\n",
       "English Score     7\n",
       "dtype: int64"
      ]
     },
     "execution_count": 15,
     "metadata": {},
     "output_type": "execute_result"
    }
   ],
   "source": [
    "df.isna().sum()"
   ]
  },
  {
   "cell_type": "code",
   "execution_count": 16,
   "id": "d012ac2b",
   "metadata": {},
   "outputs": [],
   "source": [
    "# Filling Height and Weight values with mean\n",
    "df[\"Height\"].fillna(df[\"Height\"].mean(), inplace=True)\n",
    "df[\"Weight\"].fillna(df[\"Weight\"].mean(), inplace=True)"
   ]
  },
  {
   "cell_type": "code",
   "execution_count": 17,
   "id": "cff9d027",
   "metadata": {},
   "outputs": [
    {
     "data": {
      "text/plain": [
       "Roll No.          0\n",
       "Name              0\n",
       "Gender            0\n",
       "Address           0\n",
       "Suburb            9\n",
       "Fee Status       28\n",
       "Height            0\n",
       "Weight            0\n",
       "Family Income     1\n",
       "Math Score       14\n",
       "Science Score    11\n",
       "English Score     7\n",
       "dtype: int64"
      ]
     },
     "execution_count": 17,
     "metadata": {},
     "output_type": "execute_result"
    }
   ],
   "source": [
    "df.isna().sum()"
   ]
  },
  {
   "cell_type": "code",
   "execution_count": 18,
   "id": "e3669d62",
   "metadata": {},
   "outputs": [],
   "source": [
    "# Filling Family Income with Median\n",
    "df[\"Family Income\"].fillna(df[\"Family Income\"].median(), inplace=True)"
   ]
  },
  {
   "cell_type": "code",
   "execution_count": 19,
   "id": "482e33ab",
   "metadata": {},
   "outputs": [
    {
     "data": {
      "text/plain": [
       "Roll No.          0\n",
       "Name              0\n",
       "Gender            0\n",
       "Address           0\n",
       "Suburb            9\n",
       "Fee Status       28\n",
       "Height            0\n",
       "Weight            0\n",
       "Family Income     0\n",
       "Math Score       14\n",
       "Science Score    11\n",
       "English Score     7\n",
       "dtype: int64"
      ]
     },
     "execution_count": 19,
     "metadata": {},
     "output_type": "execute_result"
    }
   ],
   "source": [
    "df.isna().sum()"
   ]
  },
  {
   "cell_type": "code",
   "execution_count": 20,
   "id": "b86dc37d",
   "metadata": {},
   "outputs": [],
   "source": [
    "# Filling Suburb by Mode\n",
    "df[\"Suburb\"].fillna(df[\"Suburb\"].mode()[0], inplace=True)"
   ]
  },
  {
   "cell_type": "code",
   "execution_count": 21,
   "id": "e8ab19c5",
   "metadata": {},
   "outputs": [
    {
     "data": {
      "text/plain": [
       "Roll No.          0\n",
       "Name              0\n",
       "Gender            0\n",
       "Address           0\n",
       "Suburb            0\n",
       "Fee Status       28\n",
       "Height            0\n",
       "Weight            0\n",
       "Family Income     0\n",
       "Math Score       14\n",
       "Science Score    11\n",
       "English Score     7\n",
       "dtype: int64"
      ]
     },
     "execution_count": 21,
     "metadata": {},
     "output_type": "execute_result"
    }
   ],
   "source": [
    "df.isna().sum()"
   ]
  },
  {
   "cell_type": "code",
   "execution_count": 22,
   "id": "d40f31d5",
   "metadata": {},
   "outputs": [],
   "source": [
    "# Filling Fee Status by \"Unpaid\"\n",
    "df[\"Fee Status\"].fillna(\"Unpaid\", inplace=True)"
   ]
  },
  {
   "cell_type": "code",
   "execution_count": 23,
   "id": "27731b77",
   "metadata": {},
   "outputs": [
    {
     "data": {
      "text/plain": [
       "Roll No.          0\n",
       "Name              0\n",
       "Gender            0\n",
       "Address           0\n",
       "Suburb            0\n",
       "Fee Status        0\n",
       "Height            0\n",
       "Weight            0\n",
       "Family Income     0\n",
       "Math Score       14\n",
       "Science Score    11\n",
       "English Score     7\n",
       "dtype: int64"
      ]
     },
     "execution_count": 23,
     "metadata": {},
     "output_type": "execute_result"
    }
   ],
   "source": [
    "df.isna().sum()"
   ]
  },
  {
   "cell_type": "code",
   "execution_count": 24,
   "id": "47a31546",
   "metadata": {},
   "outputs": [],
   "source": [
    "# Filling Scores by 0\n",
    "df[[\"Math Score\", \"Science Score\", \"English Score\"]] = df[[\"Math Score\", \"Science Score\", \"English Score\"]].fillna(0)"
   ]
  },
  {
   "cell_type": "code",
   "execution_count": 25,
   "id": "d21d2665",
   "metadata": {},
   "outputs": [
    {
     "data": {
      "text/plain": [
       "Roll No.         0\n",
       "Name             0\n",
       "Gender           0\n",
       "Address          0\n",
       "Suburb           0\n",
       "Fee Status       0\n",
       "Height           0\n",
       "Weight           0\n",
       "Family Income    0\n",
       "Math Score       0\n",
       "Science Score    0\n",
       "English Score    0\n",
       "dtype: int64"
      ]
     },
     "execution_count": 25,
     "metadata": {},
     "output_type": "execute_result"
    }
   ],
   "source": [
    "df.isna().sum()"
   ]
  },
  {
   "cell_type": "markdown",
   "id": "713746c4",
   "metadata": {},
   "source": [
    "2. Apply data transformations on at least one of the variables. The purpose of this transformation should be one of the following reasons: to change the scale for better understanding of the variable, to convert a non-linear relation into a linear one, or to decrease the skewness and convert the distribution into a normal distribution."
   ]
  },
  {
   "cell_type": "code",
   "execution_count": 26,
   "id": "97d00cff",
   "metadata": {},
   "outputs": [
    {
     "data": {
      "text/plain": [
       "<AxesSubplot:xlabel='Family Income', ylabel='Count'>"
      ]
     },
     "execution_count": 26,
     "metadata": {},
     "output_type": "execute_result"
    },
    {
     "data": {
      "image/png": "[encoded data removed]",
      "text/plain": [
       "<Figure size 640x480 with 1 Axes>"
      ]
     },
     "metadata": {},
     "output_type": "display_data"
    }
   ],
   "source": [
    "sns.histplot(x=df[\"Family Income\"])"
   ]
  },
  {
   "cell_type": "code",
   "execution_count": 27,
   "id": "f4d65fcf",
   "metadata": {},
   "outputs": [],
   "source": [
    "# Changing Scale of Family Income by Standard Scaling\n",
    "df_scaled = df\n",
    "df_scaled[\"Family Income\"] = (df_scaled[\"Family Income\"]-df_scaled[\"Family Income\"].mean())/df_scaled[\"Family Income\"].std()"
   ]
  },
  {
   "cell_type": "code",
   "execution_count": 28,
   "id": "b130bea3",
   "metadata": {},
   "outputs": [
    {
     "data": {
      "text/plain": [
       "<AxesSubplot:xlabel='Family Income', ylabel='Count'>"
      ]
     },
     "execution_count": 28,
     "metadata": {},
     "output_type": "execute_result"
    },
    {
     "data": {
      "image/png": "[encoded data removed]",
      "text/plain": [
       "<Figure size 640x480 with 1 Axes>"
      ]
     },
     "metadata": {},
     "output_type": "display_data"
    }
   ],
   "source": [
    "sns.histplot(df_scaled[\"Family Income\"])"
   ]
  },
  {
   "cell_type": "code",
   "execution_count": 29,
   "id": "4137c630",
   "metadata": {},
   "outputs": [
    {
     "data": {
      "text/plain": [
       "<AxesSubplot:xlabel='Height', ylabel='Family Income'>"
      ]
     },
     "execution_count": 29,
     "metadata": {},
     "output_type": "execute_result"
    },
    {
     "data": {
      "image/png": "[encoded data removed]",
      "text/plain": [
       "<Figure size 640x480 with 1 Axes>"
      ]
     },
     "metadata": {},
     "output_type": "display_data"
    }
   ],
   "source": [
    "# Relation between 'Height' and 'Weight'\n",
    "sns.regplot(data=df, x=\"Height\", y=\"Family Income\")"
   ]
  },
  {
   "cell_type": "code",
   "execution_count": 30,
   "id": "fa4600b1",
   "metadata": {},
   "outputs": [
    {
     "name": "stderr",
     "output_type": "stream",
     "text": [
      "C:\\Users\\Akash Kalme\\anaconda3\\lib\\site-packages\\pandas\\core\\arraylike.py:397: RuntimeWarning: invalid value encountered in log\n",
      "  result = getattr(ufunc, method)(*inputs, **kwargs)\n"
     ]
    }
   ],
   "source": [
    "# Converting to more closer linear relation\n",
    "heights = (df[\"Height\"])\n",
    "income = np.log(df[\"Family Income\"])"
   ]
  },
  {
   "cell_type": "code",
   "execution_count": 31,
   "id": "7b7de175",
   "metadata": {},
   "outputs": [
    {
     "data": {
      "text/plain": [
       "<AxesSubplot:xlabel='Height', ylabel='Family Income'>"
      ]
     },
     "execution_count": 31,
     "metadata": {},
     "output_type": "execute_result"
    },
    {
     "data": {
      "image/png": "[encoded data removed]",
      "text/plain": [
       "<Figure size 640x480 with 1 Axes>"
      ]
     },
     "metadata": {},
     "output_type": "display_data"
    }
   ],
   "source": [
    "sns.regplot(x=heights, y=income)"
   ]
  },
  {
   "cell_type": "code",
   "execution_count": 32,
   "id": "bcf8b2f5",
   "metadata": {},
   "outputs": [
    {
     "data": {
      "text/plain": [
       "Roll No.         0.009863\n",
       "Height           0.147851\n",
       "Weight          -0.032607\n",
       "Family Income    0.743153\n",
       "Math Score       7.039047\n",
       "Science Score   -1.262631\n",
       "English Score    1.081767\n",
       "dtype: float64"
      ]
     },
     "execution_count": 32,
     "metadata": {},
     "output_type": "execute_result"
    }
   ],
   "source": [
    "# Reducing Skewness\n",
    "df_skewed = df\n",
    "df.skew(numeric_only=True)"
   ]
  },
  {
   "cell_type": "markdown",
   "id": "aed01527",
   "metadata": {},
   "source": [
    "We can see that 'Math Score' is highly positively skewed."
   ]
  },
  {
   "cell_type": "code",
   "execution_count": 33,
   "id": "f304e11d",
   "metadata": {},
   "outputs": [
    {
     "data": {
      "text/plain": [
       "<AxesSubplot:xlabel='Math Score'>"
      ]
     },
     "execution_count": 33,
     "metadata": {},
     "output_type": "execute_result"
    },
    {
     "data": {
      "image/png": "[encoded data removed]",
      "text/plain": [
       "<Figure size 640x480 with 1 Axes>"
      ]
     },
     "metadata": {},
     "output_type": "display_data"
    }
   ],
   "source": [
    "sns.boxplot(x=df[\"Math Score\"])"
   ]
  },
  {
   "cell_type": "code",
   "execution_count": 34,
   "id": "41967e9a",
   "metadata": {},
   "outputs": [],
   "source": [
    "# Removing the outlier to extreme right\n",
    "df = df.loc[df[\"Math Score\"]<=100]"
   ]
  },
  {
   "cell_type": "code",
   "execution_count": 35,
   "id": "df238490",
   "metadata": {
    "scrolled": false
   },
   "outputs": [
    {
     "data": {
      "text/plain": [
       "<AxesSubplot:xlabel='Math Score', ylabel='Count'>"
      ]
     },
     "execution_count": 35,
     "metadata": {},
     "output_type": "execute_result"
    },
    {
     "data": {
      "image/png": "[encoded data removed]",
      "text/plain": [
       "<Figure size 640x480 with 1 Axes>"
      ]
     },
     "metadata": {},
     "output_type": "display_data"
    }
   ],
   "source": [
    "sns.histplot(df[\"Math Score\"])"
   ]
  },
  {
   "cell_type": "code",
   "execution_count": 36,
   "id": "c72d4618",
   "metadata": {},
   "outputs": [
    {
     "data": {
      "text/plain": [
       "-1.2071799137449835"
      ]
     },
     "execution_count": 36,
     "metadata": {},
     "output_type": "execute_result"
    }
   ],
   "source": [
    "df[\"Math Score\"].skew()"
   ]
  },
  {
   "cell_type": "code",
   "execution_count": 37,
   "id": "3a19ac15",
   "metadata": {},
   "outputs": [
    {
     "name": "stderr",
     "output_type": "stream",
     "text": [
      "C:\\Users\\Akash Kalme\\AppData\\Local\\Temp\\ipykernel_20984\\2435177333.py:2: SettingWithCopyWarning: \n",
      "A value is trying to be set on a copy of a slice from a DataFrame.\n",
      "Try using .loc[row_indexer,col_indexer] = value instead\n",
      "\n",
      "See the caveats in the documentation: https://pandas.pydata.org/pandas-docs/stable/user_guide/indexing.html#returning-a-view-versus-a-copy\n",
      "  df[\"Math Score Root\"] = np.sqrt(df[\"Math Score\"])\n"
     ]
    }
   ],
   "source": [
    "# Reducing skewness by Log Transform\n",
    "df[\"Math Score Root\"] = np.sqrt(df[\"Math Score\"])"
   ]
  },
  {
   "cell_type": "code",
   "execution_count": 38,
   "id": "3469bfa0",
   "metadata": {},
   "outputs": [
    {
     "data": {
      "text/plain": [
       "-2.331859249023662"
      ]
     },
     "execution_count": 38,
     "metadata": {},
     "output_type": "execute_result"
    }
   ],
   "source": [
    "df[\"Math Score Root\"].skew()"
   ]
  },
  {
   "cell_type": "code",
   "execution_count": 40,
   "id": "4a834b2e",
   "metadata": {
    "scrolled": false
   },
   "outputs": [
    {
     "data": {
      "text/plain": [
       "<AxesSubplot:xlabel='Math Score Root', ylabel='Count'>"
      ]
     },
     "execution_count": 40,
     "metadata": {},
     "output_type": "execute_result"
    },
    {
     "data": {
      "image/png": "[encoded data removed]",
      "text/plain": [
       "<Figure size 640x480 with 1 Axes>"
      ]
     },
     "metadata": {},
     "output_type": "display_data"
    }
   ],
   "source": [
    "sns.histplot(df[\"Math Score Root\"])"
   ]
  },
  {
   "cell_type": "markdown",
   "id": "e00b6286",
   "metadata": {},
   "source": [
    "Skewness increased"
   ]
  }
 ],
 "metadata": {
  "kernelspec": {
   "display_name": "Python 3 (ipykernel)",
   "language": "python",
   "name": "python3"
  },
  "language_info": {
   "codemirror_mode": {
    "name": "ipython",
    "version": 3
   },
   "file_extension": ".py",
   "mimetype": "text/x-python",
   "name": "python",
   "nbconvert_exporter": "python",
   "pygments_lexer": "ipython3",
   "version": "3.9.13"
  }
 },
 "nbformat": 4,
 "nbformat_minor": 5
}
