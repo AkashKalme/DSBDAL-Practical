{
 "cells": [
  {
   "cell_type": "markdown",
   "id": "3ee9e3da",
   "metadata": {},
   "source": [
    "# Problem statement 5:\n",
    "Perform the following operations on any open-source dataset (e.g., data.csv)\n",
    "1. Provide summary statistics (mean, median, minimum, maximum, standard deviation) for a dataset (age, income etc.) with numeric variables grouped by one of the qualitative (categorical) variable. For example, if your categorical variable is age groups and quantitative variable is income, then provide summary statistics of income grouped by the age groups. Create a list that contains a numeric value for each response to the categorical variable."
   ]
  },
  {
   "cell_type": "code",
   "execution_count": 1,
   "id": "5bf6cbde",
   "metadata": {},
   "outputs": [],
   "source": [
    "import pandas as pd\n",
    "import numpy as np\n",
    "import seaborn as sns"
   ]
  },
  {
   "cell_type": "code",
   "execution_count": 2,
   "id": "3999b168",
   "metadata": {},
   "outputs": [],
   "source": [
    "df = pd.read_csv(\"income.csv\")"
   ]
  },
  {
   "cell_type": "code",
   "execution_count": 3,
   "id": "d481bf87",
   "metadata": {},
   "outputs": [
    {
     "data": {
      "text/html": [
       "<div>\n",
       "<style scoped>\n",
       "    .dataframe tbody tr th:only-of-type {\n",
       "        vertical-align: middle;\n",
       "    }\n",
       "\n",
       "    .dataframe tbody tr th {\n",
       "        vertical-align: top;\n",
       "    }\n",
       "\n",
       "    .dataframe thead th {\n",
       "        text-align: right;\n",
       "    }\n",
       "</style>\n",
       "<table border=\"1\" class=\"dataframe\">\n",
       "  <thead>\n",
       "    <tr style=\"text-align: right;\">\n",
       "      <th></th>\n",
       "      <th>Age</th>\n",
       "      <th>Gender</th>\n",
       "      <th>Education Number</th>\n",
       "      <th>Workclass</th>\n",
       "      <th>Income</th>\n",
       "    </tr>\n",
       "  </thead>\n",
       "  <tbody>\n",
       "    <tr>\n",
       "      <th>0</th>\n",
       "      <td>25</td>\n",
       "      <td>Male</td>\n",
       "      <td>7</td>\n",
       "      <td>Private</td>\n",
       "      <td>480332</td>\n",
       "    </tr>\n",
       "    <tr>\n",
       "      <th>1</th>\n",
       "      <td>38</td>\n",
       "      <td>Male</td>\n",
       "      <td>9</td>\n",
       "      <td>Private</td>\n",
       "      <td>198235</td>\n",
       "    </tr>\n",
       "    <tr>\n",
       "      <th>2</th>\n",
       "      <td>28</td>\n",
       "      <td>Male</td>\n",
       "      <td>12</td>\n",
       "      <td>Local-gov</td>\n",
       "      <td>82785</td>\n",
       "    </tr>\n",
       "    <tr>\n",
       "      <th>3</th>\n",
       "      <td>44</td>\n",
       "      <td>Male</td>\n",
       "      <td>10</td>\n",
       "      <td>Private</td>\n",
       "      <td>107589</td>\n",
       "    </tr>\n",
       "    <tr>\n",
       "      <th>4</th>\n",
       "      <td>18</td>\n",
       "      <td>Female</td>\n",
       "      <td>10</td>\n",
       "      <td>Unknown</td>\n",
       "      <td>189322</td>\n",
       "    </tr>\n",
       "    <tr>\n",
       "      <th>...</th>\n",
       "      <td>...</td>\n",
       "      <td>...</td>\n",
       "      <td>...</td>\n",
       "      <td>...</td>\n",
       "      <td>...</td>\n",
       "    </tr>\n",
       "    <tr>\n",
       "      <th>1994</th>\n",
       "      <td>44</td>\n",
       "      <td>Female</td>\n",
       "      <td>13</td>\n",
       "      <td>Private</td>\n",
       "      <td>270685</td>\n",
       "    </tr>\n",
       "    <tr>\n",
       "      <th>1995</th>\n",
       "      <td>35</td>\n",
       "      <td>Male</td>\n",
       "      <td>13</td>\n",
       "      <td>Private</td>\n",
       "      <td>186547</td>\n",
       "    </tr>\n",
       "    <tr>\n",
       "      <th>1996</th>\n",
       "      <td>27</td>\n",
       "      <td>Male</td>\n",
       "      <td>9</td>\n",
       "      <td>Private</td>\n",
       "      <td>454429</td>\n",
       "    </tr>\n",
       "    <tr>\n",
       "      <th>1997</th>\n",
       "      <td>36</td>\n",
       "      <td>Male</td>\n",
       "      <td>13</td>\n",
       "      <td>Local-gov</td>\n",
       "      <td>95040</td>\n",
       "    </tr>\n",
       "    <tr>\n",
       "      <th>1998</th>\n",
       "      <td>42</td>\n",
       "      <td>Male</td>\n",
       "      <td>10</td>\n",
       "      <td>State-gov</td>\n",
       "      <td>71942</td>\n",
       "    </tr>\n",
       "  </tbody>\n",
       "</table>\n",
       "<p>1999 rows × 5 columns</p>\n",
       "</div>"
      ],
      "text/plain": [
       "      Age  Gender  Education Number  Workclass  Income\n",
       "0      25    Male                 7    Private  480332\n",
       "1      38    Male                 9    Private  198235\n",
       "2      28    Male                12  Local-gov   82785\n",
       "3      44    Male                10    Private  107589\n",
       "4      18  Female                10    Unknown  189322\n",
       "...   ...     ...               ...        ...     ...\n",
       "1994   44  Female                13    Private  270685\n",
       "1995   35    Male                13    Private  186547\n",
       "1996   27    Male                 9    Private  454429\n",
       "1997   36    Male                13  Local-gov   95040\n",
       "1998   42    Male                10  State-gov   71942\n",
       "\n",
       "[1999 rows x 5 columns]"
      ]
     },
     "execution_count": 3,
     "metadata": {},
     "output_type": "execute_result"
    }
   ],
   "source": [
    "df"
   ]
  },
  {
   "cell_type": "code",
   "execution_count": 4,
   "id": "a4f30610",
   "metadata": {},
   "outputs": [
    {
     "data": {
      "text/html": [
       "<div>\n",
       "<style scoped>\n",
       "    .dataframe tbody tr th:only-of-type {\n",
       "        vertical-align: middle;\n",
       "    }\n",
       "\n",
       "    .dataframe tbody tr th {\n",
       "        vertical-align: top;\n",
       "    }\n",
       "\n",
       "    .dataframe thead th {\n",
       "        text-align: right;\n",
       "    }\n",
       "</style>\n",
       "<table border=\"1\" class=\"dataframe\">\n",
       "  <thead>\n",
       "    <tr style=\"text-align: right;\">\n",
       "      <th></th>\n",
       "      <th>Age</th>\n",
       "      <th>Gender</th>\n",
       "      <th>Education Number</th>\n",
       "      <th>Workclass</th>\n",
       "      <th>Income</th>\n",
       "    </tr>\n",
       "  </thead>\n",
       "  <tbody>\n",
       "    <tr>\n",
       "      <th>0</th>\n",
       "      <td>25</td>\n",
       "      <td>Male</td>\n",
       "      <td>7</td>\n",
       "      <td>Private</td>\n",
       "      <td>480332</td>\n",
       "    </tr>\n",
       "    <tr>\n",
       "      <th>1</th>\n",
       "      <td>38</td>\n",
       "      <td>Male</td>\n",
       "      <td>9</td>\n",
       "      <td>Private</td>\n",
       "      <td>198235</td>\n",
       "    </tr>\n",
       "    <tr>\n",
       "      <th>2</th>\n",
       "      <td>28</td>\n",
       "      <td>Male</td>\n",
       "      <td>12</td>\n",
       "      <td>Local-gov</td>\n",
       "      <td>82785</td>\n",
       "    </tr>\n",
       "    <tr>\n",
       "      <th>3</th>\n",
       "      <td>44</td>\n",
       "      <td>Male</td>\n",
       "      <td>10</td>\n",
       "      <td>Private</td>\n",
       "      <td>107589</td>\n",
       "    </tr>\n",
       "    <tr>\n",
       "      <th>4</th>\n",
       "      <td>18</td>\n",
       "      <td>Female</td>\n",
       "      <td>10</td>\n",
       "      <td>Unknown</td>\n",
       "      <td>189322</td>\n",
       "    </tr>\n",
       "  </tbody>\n",
       "</table>\n",
       "</div>"
      ],
      "text/plain": [
       "   Age  Gender  Education Number  Workclass  Income\n",
       "0   25    Male                 7    Private  480332\n",
       "1   38    Male                 9    Private  198235\n",
       "2   28    Male                12  Local-gov   82785\n",
       "3   44    Male                10    Private  107589\n",
       "4   18  Female                10    Unknown  189322"
      ]
     },
     "execution_count": 4,
     "metadata": {},
     "output_type": "execute_result"
    }
   ],
   "source": [
    "df.head()"
   ]
  },
  {
   "cell_type": "code",
   "execution_count": 5,
   "id": "b34d8ff2",
   "metadata": {},
   "outputs": [
    {
     "data": {
      "text/html": [
       "<div>\n",
       "<style scoped>\n",
       "    .dataframe tbody tr th:only-of-type {\n",
       "        vertical-align: middle;\n",
       "    }\n",
       "\n",
       "    .dataframe tbody tr th {\n",
       "        vertical-align: top;\n",
       "    }\n",
       "\n",
       "    .dataframe thead th {\n",
       "        text-align: right;\n",
       "    }\n",
       "</style>\n",
       "<table border=\"1\" class=\"dataframe\">\n",
       "  <thead>\n",
       "    <tr style=\"text-align: right;\">\n",
       "      <th></th>\n",
       "      <th>Age</th>\n",
       "      <th>Gender</th>\n",
       "      <th>Education Number</th>\n",
       "      <th>Workclass</th>\n",
       "      <th>Income</th>\n",
       "    </tr>\n",
       "  </thead>\n",
       "  <tbody>\n",
       "    <tr>\n",
       "      <th>1994</th>\n",
       "      <td>44</td>\n",
       "      <td>Female</td>\n",
       "      <td>13</td>\n",
       "      <td>Private</td>\n",
       "      <td>270685</td>\n",
       "    </tr>\n",
       "    <tr>\n",
       "      <th>1995</th>\n",
       "      <td>35</td>\n",
       "      <td>Male</td>\n",
       "      <td>13</td>\n",
       "      <td>Private</td>\n",
       "      <td>186547</td>\n",
       "    </tr>\n",
       "    <tr>\n",
       "      <th>1996</th>\n",
       "      <td>27</td>\n",
       "      <td>Male</td>\n",
       "      <td>9</td>\n",
       "      <td>Private</td>\n",
       "      <td>454429</td>\n",
       "    </tr>\n",
       "    <tr>\n",
       "      <th>1997</th>\n",
       "      <td>36</td>\n",
       "      <td>Male</td>\n",
       "      <td>13</td>\n",
       "      <td>Local-gov</td>\n",
       "      <td>95040</td>\n",
       "    </tr>\n",
       "    <tr>\n",
       "      <th>1998</th>\n",
       "      <td>42</td>\n",
       "      <td>Male</td>\n",
       "      <td>10</td>\n",
       "      <td>State-gov</td>\n",
       "      <td>71942</td>\n",
       "    </tr>\n",
       "  </tbody>\n",
       "</table>\n",
       "</div>"
      ],
      "text/plain": [
       "      Age  Gender  Education Number  Workclass  Income\n",
       "1994   44  Female                13    Private  270685\n",
       "1995   35    Male                13    Private  186547\n",
       "1996   27    Male                 9    Private  454429\n",
       "1997   36    Male                13  Local-gov   95040\n",
       "1998   42    Male                10  State-gov   71942"
      ]
     },
     "execution_count": 5,
     "metadata": {},
     "output_type": "execute_result"
    }
   ],
   "source": [
    "df.tail()"
   ]
  },
  {
   "cell_type": "code",
   "execution_count": 6,
   "id": "9e8d1fab",
   "metadata": {},
   "outputs": [
    {
     "data": {
      "text/plain": [
       "1999"
      ]
     },
     "execution_count": 6,
     "metadata": {},
     "output_type": "execute_result"
    }
   ],
   "source": [
    "len(df)"
   ]
  },
  {
   "cell_type": "code",
   "execution_count": 7,
   "id": "a6655c35",
   "metadata": {},
   "outputs": [
    {
     "data": {
      "text/plain": [
       "(1999, 5)"
      ]
     },
     "execution_count": 7,
     "metadata": {},
     "output_type": "execute_result"
    }
   ],
   "source": [
    "df.shape"
   ]
  },
  {
   "cell_type": "code",
   "execution_count": 8,
   "id": "ec5cb050",
   "metadata": {},
   "outputs": [
    {
     "data": {
      "text/plain": [
       "9995"
      ]
     },
     "execution_count": 8,
     "metadata": {},
     "output_type": "execute_result"
    }
   ],
   "source": [
    "df.size"
   ]
  },
  {
   "cell_type": "code",
   "execution_count": 9,
   "id": "6cde0324",
   "metadata": {},
   "outputs": [
    {
     "data": {
      "text/html": [
       "<div>\n",
       "<style scoped>\n",
       "    .dataframe tbody tr th:only-of-type {\n",
       "        vertical-align: middle;\n",
       "    }\n",
       "\n",
       "    .dataframe tbody tr th {\n",
       "        vertical-align: top;\n",
       "    }\n",
       "\n",
       "    .dataframe thead th {\n",
       "        text-align: right;\n",
       "    }\n",
       "</style>\n",
       "<table border=\"1\" class=\"dataframe\">\n",
       "  <thead>\n",
       "    <tr style=\"text-align: right;\">\n",
       "      <th></th>\n",
       "      <th>Age</th>\n",
       "      <th>Education Number</th>\n",
       "      <th>Income</th>\n",
       "    </tr>\n",
       "  </thead>\n",
       "  <tbody>\n",
       "    <tr>\n",
       "      <th>count</th>\n",
       "      <td>1999.000000</td>\n",
       "      <td>1999.000000</td>\n",
       "      <td>1.999000e+03</td>\n",
       "    </tr>\n",
       "    <tr>\n",
       "      <th>mean</th>\n",
       "      <td>38.566283</td>\n",
       "      <td>10.033517</td>\n",
       "      <td>2.070535e+05</td>\n",
       "    </tr>\n",
       "    <tr>\n",
       "      <th>std</th>\n",
       "      <td>13.698691</td>\n",
       "      <td>2.671425</td>\n",
       "      <td>3.258124e+05</td>\n",
       "    </tr>\n",
       "    <tr>\n",
       "      <th>min</th>\n",
       "      <td>17.000000</td>\n",
       "      <td>1.000000</td>\n",
       "      <td>1.469100e+04</td>\n",
       "    </tr>\n",
       "    <tr>\n",
       "      <th>25%</th>\n",
       "      <td>27.000000</td>\n",
       "      <td>9.000000</td>\n",
       "      <td>9.745200e+04</td>\n",
       "    </tr>\n",
       "    <tr>\n",
       "      <th>50%</th>\n",
       "      <td>37.000000</td>\n",
       "      <td>10.000000</td>\n",
       "      <td>1.403120e+05</td>\n",
       "    </tr>\n",
       "    <tr>\n",
       "      <th>75%</th>\n",
       "      <td>48.000000</td>\n",
       "      <td>13.000000</td>\n",
       "      <td>2.188615e+05</td>\n",
       "    </tr>\n",
       "    <tr>\n",
       "      <th>max</th>\n",
       "      <td>90.000000</td>\n",
       "      <td>16.000000</td>\n",
       "      <td>1.163936e+07</td>\n",
       "    </tr>\n",
       "  </tbody>\n",
       "</table>\n",
       "</div>"
      ],
      "text/plain": [
       "               Age  Education Number        Income\n",
       "count  1999.000000       1999.000000  1.999000e+03\n",
       "mean     38.566283         10.033517  2.070535e+05\n",
       "std      13.698691          2.671425  3.258124e+05\n",
       "min      17.000000          1.000000  1.469100e+04\n",
       "25%      27.000000          9.000000  9.745200e+04\n",
       "50%      37.000000         10.000000  1.403120e+05\n",
       "75%      48.000000         13.000000  2.188615e+05\n",
       "max      90.000000         16.000000  1.163936e+07"
      ]
     },
     "execution_count": 9,
     "metadata": {},
     "output_type": "execute_result"
    }
   ],
   "source": [
    "df.describe()"
   ]
  },
  {
   "cell_type": "code",
   "execution_count": 10,
   "id": "bc42d2fb",
   "metadata": {},
   "outputs": [
    {
     "name": "stdout",
     "output_type": "stream",
     "text": [
      "<class 'pandas.core.frame.DataFrame'>\n",
      "RangeIndex: 1999 entries, 0 to 1998\n",
      "Data columns (total 5 columns):\n",
      " #   Column            Non-Null Count  Dtype \n",
      "---  ------            --------------  ----- \n",
      " 0   Age               1999 non-null   int64 \n",
      " 1   Gender            1999 non-null   object\n",
      " 2   Education Number  1999 non-null   int64 \n",
      " 3   Workclass         1999 non-null   object\n",
      " 4   Income            1999 non-null   int64 \n",
      "dtypes: int64(3), object(2)\n",
      "memory usage: 78.2+ KB\n"
     ]
    }
   ],
   "source": [
    "df.info()"
   ]
  },
  {
   "cell_type": "code",
   "execution_count": 11,
   "id": "fe6451be",
   "metadata": {},
   "outputs": [],
   "source": [
    "# Adding 'Age Group' column to DataFrame\n",
    "ages = [0, 19, 32, 58, 100]\n",
    "label = [\"Teen\", \"Young\", \"Adult\", \"Old\"]\n",
    "df[\"Age Group\"] = pd.cut(x=df[\"Age\"], bins=ages, labels=label)"
   ]
  },
  {
   "cell_type": "code",
   "execution_count": 12,
   "id": "620a40d2",
   "metadata": {},
   "outputs": [
    {
     "data": {
      "text/html": [
       "<div>\n",
       "<style scoped>\n",
       "    .dataframe tbody tr th:only-of-type {\n",
       "        vertical-align: middle;\n",
       "    }\n",
       "\n",
       "    .dataframe tbody tr th {\n",
       "        vertical-align: top;\n",
       "    }\n",
       "\n",
       "    .dataframe thead th {\n",
       "        text-align: right;\n",
       "    }\n",
       "</style>\n",
       "<table border=\"1\" class=\"dataframe\">\n",
       "  <thead>\n",
       "    <tr style=\"text-align: right;\">\n",
       "      <th></th>\n",
       "      <th>Age</th>\n",
       "      <th>Gender</th>\n",
       "      <th>Education Number</th>\n",
       "      <th>Workclass</th>\n",
       "      <th>Income</th>\n",
       "      <th>Age Group</th>\n",
       "    </tr>\n",
       "  </thead>\n",
       "  <tbody>\n",
       "    <tr>\n",
       "      <th>0</th>\n",
       "      <td>25</td>\n",
       "      <td>Male</td>\n",
       "      <td>7</td>\n",
       "      <td>Private</td>\n",
       "      <td>480332</td>\n",
       "      <td>Young</td>\n",
       "    </tr>\n",
       "    <tr>\n",
       "      <th>1</th>\n",
       "      <td>38</td>\n",
       "      <td>Male</td>\n",
       "      <td>9</td>\n",
       "      <td>Private</td>\n",
       "      <td>198235</td>\n",
       "      <td>Adult</td>\n",
       "    </tr>\n",
       "    <tr>\n",
       "      <th>2</th>\n",
       "      <td>28</td>\n",
       "      <td>Male</td>\n",
       "      <td>12</td>\n",
       "      <td>Local-gov</td>\n",
       "      <td>82785</td>\n",
       "      <td>Young</td>\n",
       "    </tr>\n",
       "    <tr>\n",
       "      <th>3</th>\n",
       "      <td>44</td>\n",
       "      <td>Male</td>\n",
       "      <td>10</td>\n",
       "      <td>Private</td>\n",
       "      <td>107589</td>\n",
       "      <td>Adult</td>\n",
       "    </tr>\n",
       "    <tr>\n",
       "      <th>4</th>\n",
       "      <td>18</td>\n",
       "      <td>Female</td>\n",
       "      <td>10</td>\n",
       "      <td>Unknown</td>\n",
       "      <td>189322</td>\n",
       "      <td>Teen</td>\n",
       "    </tr>\n",
       "    <tr>\n",
       "      <th>...</th>\n",
       "      <td>...</td>\n",
       "      <td>...</td>\n",
       "      <td>...</td>\n",
       "      <td>...</td>\n",
       "      <td>...</td>\n",
       "      <td>...</td>\n",
       "    </tr>\n",
       "    <tr>\n",
       "      <th>1994</th>\n",
       "      <td>44</td>\n",
       "      <td>Female</td>\n",
       "      <td>13</td>\n",
       "      <td>Private</td>\n",
       "      <td>270685</td>\n",
       "      <td>Adult</td>\n",
       "    </tr>\n",
       "    <tr>\n",
       "      <th>1995</th>\n",
       "      <td>35</td>\n",
       "      <td>Male</td>\n",
       "      <td>13</td>\n",
       "      <td>Private</td>\n",
       "      <td>186547</td>\n",
       "      <td>Adult</td>\n",
       "    </tr>\n",
       "    <tr>\n",
       "      <th>1996</th>\n",
       "      <td>27</td>\n",
       "      <td>Male</td>\n",
       "      <td>9</td>\n",
       "      <td>Private</td>\n",
       "      <td>454429</td>\n",
       "      <td>Young</td>\n",
       "    </tr>\n",
       "    <tr>\n",
       "      <th>1997</th>\n",
       "      <td>36</td>\n",
       "      <td>Male</td>\n",
       "      <td>13</td>\n",
       "      <td>Local-gov</td>\n",
       "      <td>95040</td>\n",
       "      <td>Adult</td>\n",
       "    </tr>\n",
       "    <tr>\n",
       "      <th>1998</th>\n",
       "      <td>42</td>\n",
       "      <td>Male</td>\n",
       "      <td>10</td>\n",
       "      <td>State-gov</td>\n",
       "      <td>71942</td>\n",
       "      <td>Adult</td>\n",
       "    </tr>\n",
       "  </tbody>\n",
       "</table>\n",
       "<p>1999 rows × 6 columns</p>\n",
       "</div>"
      ],
      "text/plain": [
       "      Age  Gender  Education Number  Workclass  Income Age Group\n",
       "0      25    Male                 7    Private  480332     Young\n",
       "1      38    Male                 9    Private  198235     Adult\n",
       "2      28    Male                12  Local-gov   82785     Young\n",
       "3      44    Male                10    Private  107589     Adult\n",
       "4      18  Female                10    Unknown  189322      Teen\n",
       "...   ...     ...               ...        ...     ...       ...\n",
       "1994   44  Female                13    Private  270685     Adult\n",
       "1995   35    Male                13    Private  186547     Adult\n",
       "1996   27    Male                 9    Private  454429     Young\n",
       "1997   36    Male                13  Local-gov   95040     Adult\n",
       "1998   42    Male                10  State-gov   71942     Adult\n",
       "\n",
       "[1999 rows x 6 columns]"
      ]
     },
     "execution_count": 12,
     "metadata": {},
     "output_type": "execute_result"
    }
   ],
   "source": [
    "df"
   ]
  },
  {
   "cell_type": "code",
   "execution_count": 13,
   "id": "24450992",
   "metadata": {},
   "outputs": [
    {
     "data": {
      "text/html": [
       "<div>\n",
       "<style scoped>\n",
       "    .dataframe tbody tr th:only-of-type {\n",
       "        vertical-align: middle;\n",
       "    }\n",
       "\n",
       "    .dataframe tbody tr th {\n",
       "        vertical-align: top;\n",
       "    }\n",
       "\n",
       "    .dataframe thead th {\n",
       "        text-align: right;\n",
       "    }\n",
       "</style>\n",
       "<table border=\"1\" class=\"dataframe\">\n",
       "  <thead>\n",
       "    <tr style=\"text-align: right;\">\n",
       "      <th></th>\n",
       "      <th>Age</th>\n",
       "      <th>Education Number</th>\n",
       "      <th>Income</th>\n",
       "    </tr>\n",
       "  </thead>\n",
       "  <tbody>\n",
       "    <tr>\n",
       "      <th>count</th>\n",
       "      <td>1999.000000</td>\n",
       "      <td>1999.000000</td>\n",
       "      <td>1.999000e+03</td>\n",
       "    </tr>\n",
       "    <tr>\n",
       "      <th>mean</th>\n",
       "      <td>38.566283</td>\n",
       "      <td>10.033517</td>\n",
       "      <td>2.070535e+05</td>\n",
       "    </tr>\n",
       "    <tr>\n",
       "      <th>std</th>\n",
       "      <td>13.698691</td>\n",
       "      <td>2.671425</td>\n",
       "      <td>3.258124e+05</td>\n",
       "    </tr>\n",
       "    <tr>\n",
       "      <th>min</th>\n",
       "      <td>17.000000</td>\n",
       "      <td>1.000000</td>\n",
       "      <td>1.469100e+04</td>\n",
       "    </tr>\n",
       "    <tr>\n",
       "      <th>25%</th>\n",
       "      <td>27.000000</td>\n",
       "      <td>9.000000</td>\n",
       "      <td>9.745200e+04</td>\n",
       "    </tr>\n",
       "    <tr>\n",
       "      <th>50%</th>\n",
       "      <td>37.000000</td>\n",
       "      <td>10.000000</td>\n",
       "      <td>1.403120e+05</td>\n",
       "    </tr>\n",
       "    <tr>\n",
       "      <th>75%</th>\n",
       "      <td>48.000000</td>\n",
       "      <td>13.000000</td>\n",
       "      <td>2.188615e+05</td>\n",
       "    </tr>\n",
       "    <tr>\n",
       "      <th>max</th>\n",
       "      <td>90.000000</td>\n",
       "      <td>16.000000</td>\n",
       "      <td>1.163936e+07</td>\n",
       "    </tr>\n",
       "  </tbody>\n",
       "</table>\n",
       "</div>"
      ],
      "text/plain": [
       "               Age  Education Number        Income\n",
       "count  1999.000000       1999.000000  1.999000e+03\n",
       "mean     38.566283         10.033517  2.070535e+05\n",
       "std      13.698691          2.671425  3.258124e+05\n",
       "min      17.000000          1.000000  1.469100e+04\n",
       "25%      27.000000          9.000000  9.745200e+04\n",
       "50%      37.000000         10.000000  1.403120e+05\n",
       "75%      48.000000         13.000000  2.188615e+05\n",
       "max      90.000000         16.000000  1.163936e+07"
      ]
     },
     "execution_count": 13,
     "metadata": {},
     "output_type": "execute_result"
    }
   ],
   "source": [
    "# Summary of all statistics\n",
    "df.describe()"
   ]
  },
  {
   "cell_type": "markdown",
   "id": "723eaca4",
   "metadata": {},
   "source": [
    "Columnwise Statistics"
   ]
  },
  {
   "cell_type": "code",
   "execution_count": 28,
   "id": "579b0d87",
   "metadata": {},
   "outputs": [
    {
     "data": {
      "text/plain": [
       "17"
      ]
     },
     "execution_count": 28,
     "metadata": {},
     "output_type": "execute_result"
    }
   ],
   "source": [
    "df[\"Age\"].min()"
   ]
  },
  {
   "cell_type": "code",
   "execution_count": 29,
   "id": "2c5a4c2f",
   "metadata": {},
   "outputs": [
    {
     "data": {
      "text/plain": [
       "90"
      ]
     },
     "execution_count": 29,
     "metadata": {},
     "output_type": "execute_result"
    }
   ],
   "source": [
    "df[\"Age\"].max()"
   ]
  },
  {
   "cell_type": "code",
   "execution_count": 14,
   "id": "0dc4cf59",
   "metadata": {},
   "outputs": [
    {
     "data": {
      "text/plain": [
       "38.566283141570786"
      ]
     },
     "execution_count": 14,
     "metadata": {},
     "output_type": "execute_result"
    }
   ],
   "source": [
    "df[\"Age\"].mean()"
   ]
  },
  {
   "cell_type": "code",
   "execution_count": 15,
   "id": "4b298c92",
   "metadata": {},
   "outputs": [
    {
     "data": {
      "text/plain": [
       "37.0"
      ]
     },
     "execution_count": 15,
     "metadata": {},
     "output_type": "execute_result"
    }
   ],
   "source": [
    "df[\"Age\"].median()"
   ]
  },
  {
   "cell_type": "code",
   "execution_count": 16,
   "id": "e8dc6615",
   "metadata": {},
   "outputs": [
    {
     "data": {
      "text/plain": [
       "0    41\n",
       "Name: Age, dtype: int64"
      ]
     },
     "execution_count": 16,
     "metadata": {},
     "output_type": "execute_result"
    }
   ],
   "source": [
    "df[\"Age\"].mode()"
   ]
  },
  {
   "cell_type": "code",
   "execution_count": 17,
   "id": "6e29c1d0",
   "metadata": {},
   "outputs": [
    {
     "data": {
      "text/plain": [
       "13.698691100968377"
      ]
     },
     "execution_count": 17,
     "metadata": {},
     "output_type": "execute_result"
    }
   ],
   "source": [
    "df[\"Age\"].std()"
   ]
  },
  {
   "cell_type": "code",
   "execution_count": 19,
   "id": "d8d26080",
   "metadata": {
    "scrolled": true
   },
   "outputs": [
    {
     "data": {
      "text/plain": [
       "187.6541378797502"
      ]
     },
     "execution_count": 19,
     "metadata": {},
     "output_type": "execute_result"
    }
   ],
   "source": [
    "df[\"Age\"].var()"
   ]
  },
  {
   "cell_type": "code",
   "execution_count": 18,
   "id": "f69b134e",
   "metadata": {},
   "outputs": [
    {
     "data": {
      "text/plain": [
       "0.5215114486088329"
      ]
     },
     "execution_count": 18,
     "metadata": {},
     "output_type": "execute_result"
    }
   ],
   "source": [
    "df[\"Age\"].skew()"
   ]
  },
  {
   "cell_type": "code",
   "execution_count": 30,
   "id": "6ef616de",
   "metadata": {},
   "outputs": [
    {
     "data": {
      "text/plain": [
       "14691"
      ]
     },
     "execution_count": 30,
     "metadata": {},
     "output_type": "execute_result"
    }
   ],
   "source": [
    "df[\"Income\"].min()"
   ]
  },
  {
   "cell_type": "code",
   "execution_count": 31,
   "id": "4f4feec9",
   "metadata": {},
   "outputs": [
    {
     "data": {
      "text/plain": [
       "11639365"
      ]
     },
     "execution_count": 31,
     "metadata": {},
     "output_type": "execute_result"
    }
   ],
   "source": [
    "df[\"Income\"].max()"
   ]
  },
  {
   "cell_type": "code",
   "execution_count": 20,
   "id": "33d3291b",
   "metadata": {},
   "outputs": [
    {
     "data": {
      "text/plain": [
       "207053.54827413708"
      ]
     },
     "execution_count": 20,
     "metadata": {},
     "output_type": "execute_result"
    }
   ],
   "source": [
    "df[\"Income\"].mean()"
   ]
  },
  {
   "cell_type": "code",
   "execution_count": 21,
   "id": "262c93a0",
   "metadata": {},
   "outputs": [
    {
     "data": {
      "text/plain": [
       "140312.0"
      ]
     },
     "execution_count": 21,
     "metadata": {},
     "output_type": "execute_result"
    }
   ],
   "source": [
    "df[\"Income\"].median()"
   ]
  },
  {
   "cell_type": "code",
   "execution_count": 22,
   "id": "15b27b92",
   "metadata": {},
   "outputs": [
    {
     "data": {
      "text/plain": [
       "0      47686\n",
       "1      69835\n",
       "2      71260\n",
       "3      72120\n",
       "4      82639\n",
       "5      91722\n",
       "6      96612\n",
       "7     111495\n",
       "8     111570\n",
       "9     113852\n",
       "10    116360\n",
       "11    120090\n",
       "12    141277\n",
       "13    143785\n",
       "14    166080\n",
       "Name: Income, dtype: int64"
      ]
     },
     "execution_count": 22,
     "metadata": {},
     "output_type": "execute_result"
    }
   ],
   "source": [
    "df[\"Income\"].mode()"
   ]
  },
  {
   "cell_type": "code",
   "execution_count": 23,
   "id": "9be21208",
   "metadata": {},
   "outputs": [
    {
     "data": {
      "text/plain": [
       "325812.3596237139"
      ]
     },
     "execution_count": 23,
     "metadata": {},
     "output_type": "execute_result"
    }
   ],
   "source": [
    "df[\"Income\"].std()"
   ]
  },
  {
   "cell_type": "code",
   "execution_count": 24,
   "id": "b2bb4999",
   "metadata": {},
   "outputs": [
    {
     "data": {
      "text/plain": [
       "106153693683.57227"
      ]
     },
     "execution_count": 24,
     "metadata": {},
     "output_type": "execute_result"
    }
   ],
   "source": [
    "df[\"Income\"].var()"
   ]
  },
  {
   "cell_type": "code",
   "execution_count": 32,
   "id": "7a61026f",
   "metadata": {},
   "outputs": [
    {
     "data": {
      "text/plain": [
       "22.609157935060583"
      ]
     },
     "execution_count": 32,
     "metadata": {},
     "output_type": "execute_result"
    }
   ],
   "source": [
    "df[\"Income\"].skew()"
   ]
  },
  {
   "cell_type": "markdown",
   "id": "4b570963",
   "metadata": {},
   "source": [
    "Grouping Statistical Analysis"
   ]
  },
  {
   "cell_type": "code",
   "execution_count": 27,
   "id": "33799bba",
   "metadata": {},
   "outputs": [
    {
     "data": {
      "text/html": [
       "<div>\n",
       "<style scoped>\n",
       "    .dataframe tbody tr th:only-of-type {\n",
       "        vertical-align: middle;\n",
       "    }\n",
       "\n",
       "    .dataframe tbody tr th {\n",
       "        vertical-align: top;\n",
       "    }\n",
       "\n",
       "    .dataframe thead tr th {\n",
       "        text-align: left;\n",
       "    }\n",
       "\n",
       "    .dataframe thead tr:last-of-type th {\n",
       "        text-align: right;\n",
       "    }\n",
       "</style>\n",
       "<table border=\"1\" class=\"dataframe\">\n",
       "  <thead>\n",
       "    <tr>\n",
       "      <th></th>\n",
       "      <th colspan=\"8\" halign=\"left\">Age</th>\n",
       "      <th colspan=\"8\" halign=\"left\">Education Number</th>\n",
       "      <th colspan=\"8\" halign=\"left\">Income</th>\n",
       "    </tr>\n",
       "    <tr>\n",
       "      <th></th>\n",
       "      <th>count</th>\n",
       "      <th>mean</th>\n",
       "      <th>std</th>\n",
       "      <th>min</th>\n",
       "      <th>25%</th>\n",
       "      <th>50%</th>\n",
       "      <th>75%</th>\n",
       "      <th>max</th>\n",
       "      <th>count</th>\n",
       "      <th>mean</th>\n",
       "      <th>std</th>\n",
       "      <th>min</th>\n",
       "      <th>25%</th>\n",
       "      <th>50%</th>\n",
       "      <th>75%</th>\n",
       "      <th>max</th>\n",
       "      <th>count</th>\n",
       "      <th>mean</th>\n",
       "      <th>std</th>\n",
       "      <th>min</th>\n",
       "      <th>25%</th>\n",
       "      <th>50%</th>\n",
       "      <th>75%</th>\n",
       "      <th>max</th>\n",
       "    </tr>\n",
       "    <tr>\n",
       "      <th>Age Group</th>\n",
       "      <th></th>\n",
       "      <th></th>\n",
       "      <th></th>\n",
       "      <th></th>\n",
       "      <th></th>\n",
       "      <th></th>\n",
       "      <th></th>\n",
       "      <th></th>\n",
       "      <th></th>\n",
       "      <th></th>\n",
       "      <th></th>\n",
       "      <th></th>\n",
       "      <th></th>\n",
       "      <th></th>\n",
       "      <th></th>\n",
       "      <th></th>\n",
       "      <th></th>\n",
       "      <th></th>\n",
       "      <th></th>\n",
       "      <th></th>\n",
       "      <th></th>\n",
       "      <th></th>\n",
       "      <th></th>\n",
       "      <th></th>\n",
       "    </tr>\n",
       "  </thead>\n",
       "  <tbody>\n",
       "    <tr>\n",
       "      <th>Teen</th>\n",
       "      <td>97.0</td>\n",
       "      <td>18.309278</td>\n",
       "      <td>0.712402</td>\n",
       "      <td>17.0</td>\n",
       "      <td>18.0</td>\n",
       "      <td>18.0</td>\n",
       "      <td>19.0</td>\n",
       "      <td>19.0</td>\n",
       "      <td>97.0</td>\n",
       "      <td>8.350515</td>\n",
       "      <td>1.768010</td>\n",
       "      <td>1.0</td>\n",
       "      <td>7.0</td>\n",
       "      <td>9.0</td>\n",
       "      <td>10.0</td>\n",
       "      <td>10.0</td>\n",
       "      <td>97.0</td>\n",
       "      <td>190570.907216</td>\n",
       "      <td>199892.534420</td>\n",
       "      <td>30294.0</td>\n",
       "      <td>117904.0</td>\n",
       "      <td>142964.0</td>\n",
       "      <td>189322.0</td>\n",
       "      <td>1796730.0</td>\n",
       "    </tr>\n",
       "    <tr>\n",
       "      <th>Young</th>\n",
       "      <td>647.0</td>\n",
       "      <td>25.802164</td>\n",
       "      <td>3.801718</td>\n",
       "      <td>20.0</td>\n",
       "      <td>23.0</td>\n",
       "      <td>26.0</td>\n",
       "      <td>29.0</td>\n",
       "      <td>32.0</td>\n",
       "      <td>647.0</td>\n",
       "      <td>10.106646</td>\n",
       "      <td>2.239403</td>\n",
       "      <td>1.0</td>\n",
       "      <td>9.0</td>\n",
       "      <td>10.0</td>\n",
       "      <td>12.0</td>\n",
       "      <td>16.0</td>\n",
       "      <td>647.0</td>\n",
       "      <td>214120.863988</td>\n",
       "      <td>491161.323691</td>\n",
       "      <td>23855.0</td>\n",
       "      <td>95545.5</td>\n",
       "      <td>137568.0</td>\n",
       "      <td>218400.0</td>\n",
       "      <td>11639365.0</td>\n",
       "    </tr>\n",
       "    <tr>\n",
       "      <th>Adult</th>\n",
       "      <td>1075.0</td>\n",
       "      <td>43.539535</td>\n",
       "      <td>7.219559</td>\n",
       "      <td>33.0</td>\n",
       "      <td>37.0</td>\n",
       "      <td>43.0</td>\n",
       "      <td>49.0</td>\n",
       "      <td>58.0</td>\n",
       "      <td>1075.0</td>\n",
       "      <td>10.306977</td>\n",
       "      <td>2.780401</td>\n",
       "      <td>1.0</td>\n",
       "      <td>9.0</td>\n",
       "      <td>10.0</td>\n",
       "      <td>13.0</td>\n",
       "      <td>16.0</td>\n",
       "      <td>1075.0</td>\n",
       "      <td>206520.119070</td>\n",
       "      <td>204964.013568</td>\n",
       "      <td>14691.0</td>\n",
       "      <td>97614.5</td>\n",
       "      <td>141374.0</td>\n",
       "      <td>227188.0</td>\n",
       "      <td>1728465.0</td>\n",
       "    </tr>\n",
       "    <tr>\n",
       "      <th>Old</th>\n",
       "      <td>180.0</td>\n",
       "      <td>65.661111</td>\n",
       "      <td>5.604431</td>\n",
       "      <td>59.0</td>\n",
       "      <td>62.0</td>\n",
       "      <td>64.5</td>\n",
       "      <td>68.0</td>\n",
       "      <td>90.0</td>\n",
       "      <td>180.0</td>\n",
       "      <td>9.044444</td>\n",
       "      <td>3.242218</td>\n",
       "      <td>1.0</td>\n",
       "      <td>7.0</td>\n",
       "      <td>9.0</td>\n",
       "      <td>10.0</td>\n",
       "      <td>16.0</td>\n",
       "      <td>180.0</td>\n",
       "      <td>193718.544444</td>\n",
       "      <td>200676.733315</td>\n",
       "      <td>29174.0</td>\n",
       "      <td>101689.0</td>\n",
       "      <td>140146.0</td>\n",
       "      <td>198923.0</td>\n",
       "      <td>1935306.0</td>\n",
       "    </tr>\n",
       "  </tbody>\n",
       "</table>\n",
       "</div>"
      ],
      "text/plain": [
       "              Age                                                     \\\n",
       "            count       mean       std   min   25%   50%   75%   max   \n",
       "Age Group                                                              \n",
       "Teen         97.0  18.309278  0.712402  17.0  18.0  18.0  19.0  19.0   \n",
       "Young       647.0  25.802164  3.801718  20.0  23.0  26.0  29.0  32.0   \n",
       "Adult      1075.0  43.539535  7.219559  33.0  37.0  43.0  49.0  58.0   \n",
       "Old         180.0  65.661111  5.604431  59.0  62.0  64.5  68.0  90.0   \n",
       "\n",
       "          Education Number                                                   \\\n",
       "                     count       mean       std  min  25%   50%   75%   max   \n",
       "Age Group                                                                     \n",
       "Teen                  97.0   8.350515  1.768010  1.0  7.0   9.0  10.0  10.0   \n",
       "Young                647.0  10.106646  2.239403  1.0  9.0  10.0  12.0  16.0   \n",
       "Adult               1075.0  10.306977  2.780401  1.0  9.0  10.0  13.0  16.0   \n",
       "Old                  180.0   9.044444  3.242218  1.0  7.0   9.0  10.0  16.0   \n",
       "\n",
       "           Income                                                             \\\n",
       "            count           mean            std      min       25%       50%   \n",
       "Age Group                                                                      \n",
       "Teen         97.0  190570.907216  199892.534420  30294.0  117904.0  142964.0   \n",
       "Young       647.0  214120.863988  491161.323691  23855.0   95545.5  137568.0   \n",
       "Adult      1075.0  206520.119070  204964.013568  14691.0   97614.5  141374.0   \n",
       "Old         180.0  193718.544444  200676.733315  29174.0  101689.0  140146.0   \n",
       "\n",
       "                                 \n",
       "                75%         max  \n",
       "Age Group                        \n",
       "Teen       189322.0   1796730.0  \n",
       "Young      218400.0  11639365.0  \n",
       "Adult      227188.0   1728465.0  \n",
       "Old        198923.0   1935306.0  "
      ]
     },
     "execution_count": 27,
     "metadata": {},
     "output_type": "execute_result"
    }
   ],
   "source": [
    "pd.set_option(\"display.max_columns\", None)\n",
    "df.groupby(\"Age Group\").describe()"
   ]
  },
  {
   "cell_type": "code",
   "execution_count": 45,
   "id": "679965b8",
   "metadata": {},
   "outputs": [
    {
     "data": {
      "text/plain": [
       "Age Group\n",
       "Teen     17\n",
       "Young    20\n",
       "Adult    33\n",
       "Old      59\n",
       "Name: Age, dtype: int64"
      ]
     },
     "execution_count": 45,
     "metadata": {},
     "output_type": "execute_result"
    }
   ],
   "source": [
    "df.groupby(\"Age Group\")[\"Age\"].min()"
   ]
  },
  {
   "cell_type": "code",
   "execution_count": 46,
   "id": "1944c662",
   "metadata": {},
   "outputs": [
    {
     "data": {
      "text/plain": [
       "Age Group\n",
       "Teen     19\n",
       "Young    32\n",
       "Adult    58\n",
       "Old      90\n",
       "Name: Age, dtype: int64"
      ]
     },
     "execution_count": 46,
     "metadata": {},
     "output_type": "execute_result"
    }
   ],
   "source": [
    "df.groupby(\"Age Group\")[\"Age\"].max()"
   ]
  },
  {
   "cell_type": "code",
   "execution_count": 47,
   "id": "79d07b1c",
   "metadata": {},
   "outputs": [
    {
     "data": {
      "text/plain": [
       "Age Group\n",
       "Teen     18.309278\n",
       "Young    25.802164\n",
       "Adult    43.539535\n",
       "Old      65.661111\n",
       "Name: Age, dtype: float64"
      ]
     },
     "execution_count": 47,
     "metadata": {},
     "output_type": "execute_result"
    }
   ],
   "source": [
    "df.groupby(\"Age Group\")[\"Age\"].mean()"
   ]
  },
  {
   "cell_type": "code",
   "execution_count": 48,
   "id": "29aadb53",
   "metadata": {},
   "outputs": [
    {
     "data": {
      "text/plain": [
       "Age Group\n",
       "Teen     18.0\n",
       "Young    26.0\n",
       "Adult    43.0\n",
       "Old      64.5\n",
       "Name: Age, dtype: float64"
      ]
     },
     "execution_count": 48,
     "metadata": {},
     "output_type": "execute_result"
    }
   ],
   "source": [
    "df.groupby(\"Age Group\")[\"Age\"].median()"
   ]
  },
  {
   "cell_type": "code",
   "execution_count": 44,
   "id": "f840ad46",
   "metadata": {
    "scrolled": false
   },
   "outputs": [
    {
     "data": {
      "text/plain": [
       "Age Group\n",
       "Teen     19\n",
       "Young    20\n",
       "Adult    41\n",
       "Old      62\n",
       "Name: Age, dtype: int64"
      ]
     },
     "execution_count": 44,
     "metadata": {},
     "output_type": "execute_result"
    }
   ],
   "source": [
    "df.groupby(\"Age Group\")[\"Age\"].aggregate(pd.Series.mode)"
   ]
  },
  {
   "cell_type": "code",
   "execution_count": 49,
   "id": "38a3a0b1",
   "metadata": {},
   "outputs": [
    {
     "data": {
      "text/plain": [
       "Age Group\n",
       "Teen     0.712402\n",
       "Young    3.801718\n",
       "Adult    7.219559\n",
       "Old      5.604431\n",
       "Name: Age, dtype: float64"
      ]
     },
     "execution_count": 49,
     "metadata": {},
     "output_type": "execute_result"
    }
   ],
   "source": [
    "df.groupby(\"Age Group\")[\"Age\"].std()"
   ]
  },
  {
   "cell_type": "code",
   "execution_count": 50,
   "id": "1059ebb9",
   "metadata": {},
   "outputs": [
    {
     "data": {
      "text/plain": [
       "Age Group\n",
       "Teen     3.995703e+10\n",
       "Young    2.412394e+11\n",
       "Adult    4.201025e+10\n",
       "Old      4.027115e+10\n",
       "Name: Income, dtype: float64"
      ]
     },
     "execution_count": 50,
     "metadata": {},
     "output_type": "execute_result"
    }
   ],
   "source": [
    "df.groupby(\"Age Group\")[\"Income\"].var()"
   ]
  },
  {
   "cell_type": "code",
   "execution_count": 34,
   "id": "a1be24e9",
   "metadata": {},
   "outputs": [
    {
     "data": {
      "text/plain": [
       "Age Group\n",
       "Teen     30294\n",
       "Young    23855\n",
       "Adult    14691\n",
       "Old      29174\n",
       "Name: Income, dtype: int64"
      ]
     },
     "execution_count": 34,
     "metadata": {},
     "output_type": "execute_result"
    }
   ],
   "source": [
    "df.groupby(\"Age Group\")[\"Income\"].min()"
   ]
  },
  {
   "cell_type": "code",
   "execution_count": 35,
   "id": "4a944026",
   "metadata": {},
   "outputs": [
    {
     "data": {
      "text/plain": [
       "Age Group\n",
       "Teen      1796730\n",
       "Young    11639365\n",
       "Adult     1728465\n",
       "Old       1935306\n",
       "Name: Income, dtype: int64"
      ]
     },
     "execution_count": 35,
     "metadata": {},
     "output_type": "execute_result"
    }
   ],
   "source": [
    "df.groupby(\"Age Group\")[\"Income\"].max()"
   ]
  },
  {
   "cell_type": "code",
   "execution_count": 36,
   "id": "b38e6c21",
   "metadata": {},
   "outputs": [
    {
     "data": {
      "text/plain": [
       "Age Group\n",
       "Teen     190570.907216\n",
       "Young    214120.863988\n",
       "Adult    206520.119070\n",
       "Old      193718.544444\n",
       "Name: Income, dtype: float64"
      ]
     },
     "execution_count": 36,
     "metadata": {},
     "output_type": "execute_result"
    }
   ],
   "source": [
    "df.groupby(\"Age Group\")[\"Income\"].mean()"
   ]
  },
  {
   "cell_type": "code",
   "execution_count": 37,
   "id": "ecac1804",
   "metadata": {},
   "outputs": [
    {
     "data": {
      "text/plain": [
       "Age Group\n",
       "Teen     142964.0\n",
       "Young    137568.0\n",
       "Adult    141374.0\n",
       "Old      140146.0\n",
       "Name: Income, dtype: float64"
      ]
     },
     "execution_count": 37,
     "metadata": {},
     "output_type": "execute_result"
    }
   ],
   "source": [
    "df.groupby(\"Age Group\")[\"Income\"].median()"
   ]
  },
  {
   "cell_type": "code",
   "execution_count": 51,
   "id": "82375a29",
   "metadata": {},
   "outputs": [
    {
     "data": {
      "text/plain": [
       "Age Group\n",
       "Teen     199892.534420\n",
       "Young    491161.323691\n",
       "Adult    204964.013568\n",
       "Old      200676.733315\n",
       "Name: Income, dtype: float64"
      ]
     },
     "execution_count": 51,
     "metadata": {},
     "output_type": "execute_result"
    }
   ],
   "source": [
    "df.groupby(\"Age Group\")[\"Income\"].std()"
   ]
  },
  {
   "cell_type": "code",
   "execution_count": 52,
   "id": "707318d0",
   "metadata": {},
   "outputs": [
    {
     "data": {
      "text/plain": [
       "Age Group\n",
       "Teen     3.995703e+10\n",
       "Young    2.412394e+11\n",
       "Adult    4.201025e+10\n",
       "Old      4.027115e+10\n",
       "Name: Income, dtype: float64"
      ]
     },
     "execution_count": 52,
     "metadata": {},
     "output_type": "execute_result"
    }
   ],
   "source": [
    "df.groupby(\"Age Group\")[\"Income\"].var()"
   ]
  },
  {
   "cell_type": "code",
   "execution_count": 53,
   "id": "b5f9d2ca",
   "metadata": {},
   "outputs": [
    {
     "data": {
      "text/plain": [
       "Education Number\n",
       "1     116219\n",
       "2      46188\n",
       "3      46709\n",
       "4      40649\n",
       "5      31345\n",
       "6      30294\n",
       "7      34935\n",
       "8      39732\n",
       "9      20688\n",
       "10     23253\n",
       "11     28275\n",
       "12     25481\n",
       "13     23973\n",
       "14     14691\n",
       "15     41138\n",
       "16     30292\n",
       "Name: Income, dtype: int64"
      ]
     },
     "execution_count": 53,
     "metadata": {},
     "output_type": "execute_result"
    }
   ],
   "source": [
    "df.groupby(\"Education Number\")[\"Income\"].min()"
   ]
  },
  {
   "cell_type": "code",
   "execution_count": 54,
   "id": "6574890a",
   "metadata": {},
   "outputs": [
    {
     "data": {
      "text/plain": [
       "Education Number\n",
       "1       296776\n",
       "2       660738\n",
       "3       820441\n",
       "4      1107119\n",
       "5      1935306\n",
       "6      1114504\n",
       "7      1796730\n",
       "8       700542\n",
       "9     11639365\n",
       "10     1724760\n",
       "11     1046834\n",
       "12     1728465\n",
       "13     1606308\n",
       "14      808197\n",
       "15      447170\n",
       "16      741308\n",
       "Name: Income, dtype: int64"
      ]
     },
     "execution_count": 54,
     "metadata": {},
     "output_type": "execute_result"
    }
   ],
   "source": [
    "df.groupby(\"Education Number\")[\"Income\"].max()"
   ]
  },
  {
   "cell_type": "code",
   "execution_count": 55,
   "id": "c28a29a9",
   "metadata": {},
   "outputs": [
    {
     "data": {
      "text/plain": [
       "Education Number\n",
       "1     188628.666667\n",
       "2     263830.400000\n",
       "3     176817.280000\n",
       "4     183855.355556\n",
       "5     305868.515152\n",
       "6     179390.090909\n",
       "7     189406.441860\n",
       "8     238758.187500\n",
       "9     225586.230769\n",
       "10    205112.707483\n",
       "11    214950.644737\n",
       "12    209369.357143\n",
       "13    195278.107558\n",
       "14    176751.135135\n",
       "15    139989.800000\n",
       "16    176696.760000\n",
       "Name: Income, dtype: float64"
      ]
     },
     "execution_count": 55,
     "metadata": {},
     "output_type": "execute_result"
    }
   ],
   "source": [
    "df.groupby(\"Education Number\")[\"Income\"].mean()"
   ]
  },
  {
   "cell_type": "code",
   "execution_count": 56,
   "id": "4afb8d4c",
   "metadata": {},
   "outputs": [
    {
     "data": {
      "text/plain": [
       "Education Number\n",
       "1     158058.0\n",
       "2     169370.5\n",
       "3     116805.0\n",
       "4     148414.0\n",
       "5     177820.0\n",
       "6     135097.5\n",
       "7     126378.0\n",
       "8     147662.0\n",
       "9     143856.0\n",
       "10    140073.0\n",
       "11    147732.5\n",
       "12    140916.0\n",
       "13    138813.5\n",
       "14    132645.0\n",
       "15    111338.0\n",
       "16    134277.0\n",
       "Name: Income, dtype: float64"
      ]
     },
     "execution_count": 56,
     "metadata": {},
     "output_type": "execute_result"
    }
   ],
   "source": [
    "df.groupby(\"Education Number\")[\"Income\"].median()"
   ]
  },
  {
   "cell_type": "code",
   "execution_count": 59,
   "id": "15204e40",
   "metadata": {},
   "outputs": [
    {
     "data": {
      "text/plain": [
       "Education Number\n",
       "1      75684.727465\n",
       "2     220221.818178\n",
       "3     179403.051466\n",
       "4     176965.567863\n",
       "5     400252.145770\n",
       "6     156333.829056\n",
       "7     221102.385490\n",
       "8     201138.264799\n",
       "9     502911.570408\n",
       "10    208342.867785\n",
       "11    181976.203395\n",
       "12    252642.788225\n",
       "13    180785.269142\n",
       "14    144881.614729\n",
       "15     89488.182246\n",
       "16    144377.157530\n",
       "Name: Income, dtype: float64"
      ]
     },
     "execution_count": 59,
     "metadata": {},
     "output_type": "execute_result"
    }
   ],
   "source": [
    "df.groupby(\"Education Number\")[\"Income\"].std()"
   ]
  },
  {
   "cell_type": "code",
   "execution_count": 60,
   "id": "1812b0c2",
   "metadata": {},
   "outputs": [
    {
     "data": {
      "text/plain": [
       "Education Number\n",
       "1     5.728178e+09\n",
       "2     4.849765e+10\n",
       "3     3.218545e+10\n",
       "4     3.131681e+10\n",
       "5     1.602018e+11\n",
       "6     2.444027e+10\n",
       "7     4.888626e+10\n",
       "8     4.045660e+10\n",
       "9     2.529200e+11\n",
       "10    4.340675e+10\n",
       "11    3.311534e+10\n",
       "12    6.382838e+10\n",
       "13    3.268331e+10\n",
       "14    2.099068e+10\n",
       "15    8.008135e+09\n",
       "16    2.084476e+10\n",
       "Name: Income, dtype: float64"
      ]
     },
     "execution_count": 60,
     "metadata": {},
     "output_type": "execute_result"
    }
   ],
   "source": [
    "df.groupby(\"Education Number\")[\"Income\"].var()"
   ]
  }
 ],
 "metadata": {
  "kernelspec": {
   "display_name": "Python 3 (ipykernel)",
   "language": "python",
   "name": "python3"
  },
  "language_info": {
   "codemirror_mode": {
    "name": "ipython",
    "version": 3
   },
   "file_extension": ".py",
   "mimetype": "text/x-python",
   "name": "python",
   "nbconvert_exporter": "python",
   "pygments_lexer": "ipython3",
   "version": "3.9.13"
  }
 },
 "nbformat": 4,
 "nbformat_minor": 5
}
